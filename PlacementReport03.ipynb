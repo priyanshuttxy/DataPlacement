{
 "cells": [
  {
   "cell_type": "code",
   "execution_count": 2,
   "id": "64ffe506-3e92-43b8-a3cb-d3ab91d91117",
   "metadata": {},
   "outputs": [],
   "source": [
    "import pandas as pd\n",
    "import numpy as np\n",
    "import matplotlib.pyplot as plt\n",
    "import seaborn as sn"
   ]
  },
  {
   "cell_type": "code",
   "execution_count": 3,
   "id": "40c0c702-44f0-4799-9969-e93ad0378420",
   "metadata": {},
   "outputs": [],
   "source": [
    "df=pd.read_excel(\"Final Placement Report 2019-23.xlsx\")"
   ]
  },
  {
   "cell_type": "code",
   "execution_count": 4,
   "id": "b23a8e27-89de-4477-926b-f73ee6cdb853",
   "metadata": {},
   "outputs": [
    {
     "data": {
      "text/html": [
       "<div>\n",
       "<style scoped>\n",
       "    .dataframe tbody tr th:only-of-type {\n",
       "        vertical-align: middle;\n",
       "    }\n",
       "\n",
       "    .dataframe tbody tr th {\n",
       "        vertical-align: top;\n",
       "    }\n",
       "\n",
       "    .dataframe thead th {\n",
       "        text-align: right;\n",
       "    }\n",
       "</style>\n",
       "<table border=\"1\" class=\"dataframe\">\n",
       "  <thead>\n",
       "    <tr style=\"text-align: right;\">\n",
       "      <th></th>\n",
       "      <th>Enrolment No.</th>\n",
       "      <th>Name</th>\n",
       "      <th>Stream</th>\n",
       "      <th>COMPANY</th>\n",
       "      <th>PACKAGE</th>\n",
       "      <th>CGPA</th>\n",
       "    </tr>\n",
       "  </thead>\n",
       "  <tbody>\n",
       "    <tr>\n",
       "      <th>0</th>\n",
       "      <td>10020802719</td>\n",
       "      <td>GAURAV SINGH CHAUHAN</td>\n",
       "      <td>CSE B</td>\n",
       "      <td>TEJAS NETWORKS</td>\n",
       "      <td>10.0</td>\n",
       "      <td>8.780</td>\n",
       "    </tr>\n",
       "    <tr>\n",
       "      <th>1</th>\n",
       "      <td>4420802719</td>\n",
       "      <td>JANVI GUPTA</td>\n",
       "      <td>CSE A</td>\n",
       "      <td>TEJAS NETWORKS</td>\n",
       "      <td>10.0</td>\n",
       "      <td>9.243</td>\n",
       "    </tr>\n",
       "    <tr>\n",
       "      <th>2</th>\n",
       "      <td>6720802719</td>\n",
       "      <td>NIKHIL DUSEJA</td>\n",
       "      <td>CSE B</td>\n",
       "      <td>TEJAS NETWORKS</td>\n",
       "      <td>10.0</td>\n",
       "      <td>9.294</td>\n",
       "    </tr>\n",
       "    <tr>\n",
       "      <th>3</th>\n",
       "      <td>2620803119</td>\n",
       "      <td>HRITIK KESHARWANI</td>\n",
       "      <td>IT</td>\n",
       "      <td>TRAVCLAN</td>\n",
       "      <td>10.0</td>\n",
       "      <td>9.308</td>\n",
       "    </tr>\n",
       "    <tr>\n",
       "      <th>4</th>\n",
       "      <td>1220802719</td>\n",
       "      <td>MOHAK SHARMA</td>\n",
       "      <td>CSE A</td>\n",
       "      <td>TRAVCLAN</td>\n",
       "      <td>10.0</td>\n",
       "      <td>9.285</td>\n",
       "    </tr>\n",
       "  </tbody>\n",
       "</table>\n",
       "</div>"
      ],
      "text/plain": [
       "   Enrolment No.                  Name Stream         COMPANY  PACKAGE   CGPA\n",
       "0    10020802719  GAURAV SINGH CHAUHAN  CSE B  TEJAS NETWORKS     10.0  8.780\n",
       "1     4420802719           JANVI GUPTA  CSE A  TEJAS NETWORKS     10.0  9.243\n",
       "2     6720802719         NIKHIL DUSEJA  CSE B  TEJAS NETWORKS     10.0  9.294\n",
       "3     2620803119     HRITIK KESHARWANI     IT        TRAVCLAN     10.0  9.308\n",
       "4     1220802719          MOHAK SHARMA  CSE A        TRAVCLAN     10.0  9.285"
      ]
     },
     "execution_count": 4,
     "metadata": {},
     "output_type": "execute_result"
    }
   ],
   "source": [
    "df.head()"
   ]
  },
  {
   "cell_type": "code",
   "execution_count": 5,
   "id": "3f49464f-aa2d-4e97-b1c2-3965a746940b",
   "metadata": {},
   "outputs": [
    {
     "name": "stdout",
     "output_type": "stream",
     "text": [
      "<class 'pandas.core.frame.DataFrame'>\n",
      "RangeIndex: 218 entries, 0 to 217\n",
      "Data columns (total 6 columns):\n",
      " #   Column         Non-Null Count  Dtype  \n",
      "---  ------         --------------  -----  \n",
      " 0   Enrolment No.  218 non-null    int64  \n",
      " 1   Name           218 non-null    object \n",
      " 2   Stream         218 non-null    object \n",
      " 3   COMPANY        218 non-null    object \n",
      " 4   PACKAGE        218 non-null    float64\n",
      " 5   CGPA           218 non-null    float64\n",
      "dtypes: float64(2), int64(1), object(3)\n",
      "memory usage: 10.3+ KB\n",
      "None\n"
     ]
    }
   ],
   "source": [
    "print(df.info())"
   ]
  },
  {
   "cell_type": "code",
   "execution_count": 6,
   "id": "cb9c1a29-efa3-415b-8a82-97370480b452",
   "metadata": {},
   "outputs": [],
   "source": [
    "df1=df.drop(columns=[\"CGPA\"])"
   ]
  },
  {
   "cell_type": "code",
   "execution_count": 7,
   "id": "d891422c-7bb5-40bd-ada8-c35f681a832d",
   "metadata": {},
   "outputs": [
    {
     "name": "stdout",
     "output_type": "stream",
     "text": [
      "<class 'pandas.core.frame.DataFrame'>\n",
      "RangeIndex: 218 entries, 0 to 217\n",
      "Data columns (total 5 columns):\n",
      " #   Column         Non-Null Count  Dtype  \n",
      "---  ------         --------------  -----  \n",
      " 0   Enrolment No.  218 non-null    int64  \n",
      " 1   Name           218 non-null    object \n",
      " 2   Stream         218 non-null    object \n",
      " 3   COMPANY        218 non-null    object \n",
      " 4   PACKAGE        218 non-null    float64\n",
      "dtypes: float64(1), int64(1), object(3)\n",
      "memory usage: 8.6+ KB\n"
     ]
    }
   ],
   "source": [
    "df1.info()"
   ]
  },
  {
   "cell_type": "code",
   "execution_count": 8,
   "id": "7f4e0790-4b4b-441f-97b3-af6073320bbc",
   "metadata": {},
   "outputs": [
    {
     "data": {
      "text/plain": [
       "Enrolment No.    0\n",
       "Name             0\n",
       "Stream           0\n",
       "COMPANY          0\n",
       "PACKAGE          0\n",
       "CGPA             0\n",
       "dtype: int64"
      ]
     },
     "execution_count": 8,
     "metadata": {},
     "output_type": "execute_result"
    }
   ],
   "source": [
    "df.isnull().sum()"
   ]
  },
  {
   "cell_type": "code",
   "execution_count": 9,
   "id": "99a7ca4f-5c07-4d25-8dbb-107080608b0f",
   "metadata": {},
   "outputs": [
    {
     "data": {
      "text/html": [
       "<div>\n",
       "<style scoped>\n",
       "    .dataframe tbody tr th:only-of-type {\n",
       "        vertical-align: middle;\n",
       "    }\n",
       "\n",
       "    .dataframe tbody tr th {\n",
       "        vertical-align: top;\n",
       "    }\n",
       "\n",
       "    .dataframe thead th {\n",
       "        text-align: right;\n",
       "    }\n",
       "</style>\n",
       "<table border=\"1\" class=\"dataframe\">\n",
       "  <thead>\n",
       "    <tr style=\"text-align: right;\">\n",
       "      <th></th>\n",
       "      <th>Enrolment No.</th>\n",
       "      <th>Name</th>\n",
       "      <th>Stream</th>\n",
       "      <th>COMPANY</th>\n",
       "      <th>PACKAGE</th>\n",
       "      <th>CGPA</th>\n",
       "    </tr>\n",
       "  </thead>\n",
       "  <tbody>\n",
       "  </tbody>\n",
       "</table>\n",
       "</div>"
      ],
      "text/plain": [
       "Empty DataFrame\n",
       "Columns: [Enrolment No., Name, Stream, COMPANY, PACKAGE, CGPA]\n",
       "Index: []"
      ]
     },
     "execution_count": 9,
     "metadata": {},
     "output_type": "execute_result"
    }
   ],
   "source": [
    "df[df[\"CGPA\"]==\"NaN\"]"
   ]
  },
  {
   "cell_type": "code",
   "execution_count": 10,
   "id": "1436aa87-bb99-48b2-bbae-bc1ed1f6609c",
   "metadata": {},
   "outputs": [
    {
     "data": {
      "text/html": [
       "<div>\n",
       "<style scoped>\n",
       "    .dataframe tbody tr th:only-of-type {\n",
       "        vertical-align: middle;\n",
       "    }\n",
       "\n",
       "    .dataframe tbody tr th {\n",
       "        vertical-align: top;\n",
       "    }\n",
       "\n",
       "    .dataframe thead th {\n",
       "        text-align: right;\n",
       "    }\n",
       "</style>\n",
       "<table border=\"1\" class=\"dataframe\">\n",
       "  <thead>\n",
       "    <tr style=\"text-align: right;\">\n",
       "      <th></th>\n",
       "      <th>PACKAGE</th>\n",
       "      <th>CGPA</th>\n",
       "    </tr>\n",
       "  </thead>\n",
       "  <tbody>\n",
       "    <tr>\n",
       "      <th>count</th>\n",
       "      <td>218.000000</td>\n",
       "      <td>218.000000</td>\n",
       "    </tr>\n",
       "    <tr>\n",
       "      <th>mean</th>\n",
       "      <td>7.600505</td>\n",
       "      <td>8.952789</td>\n",
       "    </tr>\n",
       "    <tr>\n",
       "      <th>std</th>\n",
       "      <td>6.573707</td>\n",
       "      <td>0.406675</td>\n",
       "    </tr>\n",
       "    <tr>\n",
       "      <th>min</th>\n",
       "      <td>1.560000</td>\n",
       "      <td>6.528000</td>\n",
       "    </tr>\n",
       "    <tr>\n",
       "      <th>25%</th>\n",
       "      <td>4.500000</td>\n",
       "      <td>8.713500</td>\n",
       "    </tr>\n",
       "    <tr>\n",
       "      <th>50%</th>\n",
       "      <td>5.000000</td>\n",
       "      <td>8.958000</td>\n",
       "    </tr>\n",
       "    <tr>\n",
       "      <th>75%</th>\n",
       "      <td>9.750000</td>\n",
       "      <td>9.249750</td>\n",
       "    </tr>\n",
       "    <tr>\n",
       "      <th>max</th>\n",
       "      <td>50.000000</td>\n",
       "      <td>9.715000</td>\n",
       "    </tr>\n",
       "  </tbody>\n",
       "</table>\n",
       "</div>"
      ],
      "text/plain": [
       "          PACKAGE        CGPA\n",
       "count  218.000000  218.000000\n",
       "mean     7.600505    8.952789\n",
       "std      6.573707    0.406675\n",
       "min      1.560000    6.528000\n",
       "25%      4.500000    8.713500\n",
       "50%      5.000000    8.958000\n",
       "75%      9.750000    9.249750\n",
       "max     50.000000    9.715000"
      ]
     },
     "execution_count": 10,
     "metadata": {},
     "output_type": "execute_result"
    }
   ],
   "source": [
    "df[[\"PACKAGE\",\"CGPA\"]].describe()"
   ]
  },
  {
   "cell_type": "code",
   "execution_count": 11,
   "id": "470a6ad3-67ce-4ff9-b951-d9daab171d25",
   "metadata": {},
   "outputs": [
    {
     "data": {
      "text/plain": [
       "array(['CSE B', 'CSE A', 'IT', 'ECE A', 'ECE B', 'EEE', 'ECE -A'],\n",
       "      dtype=object)"
      ]
     },
     "execution_count": 11,
     "metadata": {},
     "output_type": "execute_result"
    }
   ],
   "source": [
    "df[\"Stream\"].unique()"
   ]
  },
  {
   "cell_type": "code",
   "execution_count": 12,
   "id": "08fcbda2-cae7-4794-9d02-7d5f88bf123b",
   "metadata": {},
   "outputs": [],
   "source": [
    "df[\"Stream\"]=df[\"Stream\"].replace({\"CSE A\":\"CSE\",\"CSE B\":\"CSE\",\"ECE -A\":\"ECE\",\"ECE B\":\"ECE\",'ECE A':'ECE'})"
   ]
  },
  {
   "cell_type": "code",
   "execution_count": 13,
   "id": "56eedd57-dfff-4c8c-a7a6-1c776939e545",
   "metadata": {},
   "outputs": [
    {
     "data": {
      "text/plain": [
       "array(['CSE', 'IT', 'ECE', 'EEE'], dtype=object)"
      ]
     },
     "execution_count": 13,
     "metadata": {},
     "output_type": "execute_result"
    }
   ],
   "source": [
    "df[\"Stream\"].unique()"
   ]
  },
  {
   "cell_type": "code",
   "execution_count": 14,
   "id": "df54967e-f985-479d-b4b3-958085f4a201",
   "metadata": {},
   "outputs": [
    {
     "data": {
      "text/plain": [
       "Stream\n",
       "CSE    84\n",
       "ECE    76\n",
       "EEE     6\n",
       "IT     52\n",
       "Name: PACKAGE, dtype: int64"
      ]
     },
     "execution_count": 14,
     "metadata": {},
     "output_type": "execute_result"
    }
   ],
   "source": [
    "df.groupby([\"Stream\"])[\"PACKAGE\"].count()"
   ]
  },
  {
   "cell_type": "code",
   "execution_count": 15,
   "id": "0eb8a367-1f7d-41d1-8516-d6b0f13c342a",
   "metadata": {},
   "outputs": [],
   "source": [
    "df2=pd.read_excel(\"Total Students 2019-23.xlsx\")"
   ]
  },
  {
   "cell_type": "code",
   "execution_count": 16,
   "id": "4ab31841-80fe-4b8c-8886-d75f22e3061e",
   "metadata": {},
   "outputs": [
    {
     "name": "stdout",
     "output_type": "stream",
     "text": [
      "[61.76470588235294, 72.22222222222221, 53.52112676056338, 18.75]\n"
     ]
    }
   ],
   "source": [
    "dep=[\"CSE\",\"IT\",\"ECE\",\"EEE\"]\n",
    "placed_count=[84,52,76,6]\n",
    "total_st=[136,72,142,32]\n",
    "placed_perct=[(x / y)*100 for x, y in zip(placed_count, total_st)]\n",
    "print(placed_perct)"
   ]
  },
  {
   "cell_type": "code",
   "execution_count": 17,
   "id": "5f8a62f2-717b-45b7-ad6e-6eaf73d5fdc1",
   "metadata": {},
   "outputs": [
    {
     "data": {
      "text/plain": [
       "<BarContainer object of 4 artists>"
      ]
     },
     "execution_count": 17,
     "metadata": {},
     "output_type": "execute_result"
    },
    {
     "data": {
      "image/png": "[encoded data removed]",
      "text/plain": [
       "<Figure size 640x480 with 1 Axes>"
      ]
     },
     "metadata": {},
     "output_type": "display_data"
    }
   ],
   "source": [
    "plt.bar(dep,placed_perct)"
   ]
  },
  {
   "cell_type": "code",
   "execution_count": 18,
   "id": "36e20f7f-4a22-48da-99f7-efca20451b2a",
   "metadata": {},
   "outputs": [
    {
     "name": "stdout",
     "output_type": "stream",
     "text": [
      "Placement Dataset\n"
     ]
    }
   ],
   "source": [
    "print(\"Placement Dataset\")"
   ]
  },
  {
   "cell_type": "code",
   "execution_count": 19,
   "id": "22e58b71-a8d1-4ba2-b4eb-68fce9d91cd2",
   "metadata": {},
   "outputs": [],
   "source": [
    "df2=pd.read_excel(\"Total Students 2019-23.xlsx\")"
   ]
  },
  {
   "cell_type": "code",
   "execution_count": 20,
   "id": "1a9c3409-2325-499a-8941-a87fefc8e2e8",
   "metadata": {},
   "outputs": [
    {
     "data": {
      "text/plain": [
       "Text(0.5, 0, 'PACKAGE')"
      ]
     },
     "execution_count": 20,
     "metadata": {},
     "output_type": "execute_result"
    },
    {
     "data": {
      "image/png": "[encoded data removed]",
      "text/plain": [
       "<Figure size 900x900 with 1 Axes>"
      ]
     },
     "metadata": {},
     "output_type": "display_data"
    }
   ],
   "source": [
    "plt.figure(figsize=(9,9))\n",
    "box_color = \"#ff914d\"\n",
    "sn.boxplot(df[\"PACKAGE\"],color=box_color)\n",
    "plt.xlabel(\"PACKAGE\")"
   ]
  },
  {
   "cell_type": "code",
   "execution_count": 21,
   "id": "a3f6ceb7-769b-4c57-89a4-b643c41c9f10",
   "metadata": {},
   "outputs": [
    {
     "data": {
      "text/plain": [
       "Text(0.5, 0, 'CGPA')"
      ]
     },
     "execution_count": 21,
     "metadata": {},
     "output_type": "execute_result"
    },
    {
     "data": {
      "image/png": "[encoded data removed]",
      "text/plain": [
       "<Figure size 900x900 with 1 Axes>"
      ]
     },
     "metadata": {},
     "output_type": "display_data"
    }
   ],
   "source": [
    "plt.figure(figsize=(9,9))\n",
    "box_color = \"#ff914d\"\n",
    "sn.boxplot(df[\"CGPA\"],color=box_color)\n",
    "plt.xlabel(\"CGPA\")"
   ]
  },
  {
   "cell_type": "code",
   "execution_count": 22,
   "id": "aec20cb7-1f89-415c-bcfa-b2af45791ab2",
   "metadata": {},
   "outputs": [
    {
     "data": {
      "text/plain": [
       "Text(0.5, 0, 'CGPA')"
      ]
     },
     "execution_count": 22,
     "metadata": {},
     "output_type": "execute_result"
    },
    {
     "data": {
      "image/png": "[encoded data removed]",
      "text/plain": [
       "<Figure size 900x900 with 1 Axes>"
      ]
     },
     "metadata": {},
     "output_type": "display_data"
    }
   ],
   "source": [
    "plt.figure(figsize=(9,9))\n",
    "box_color = \"#ff914d\"\n",
    "sn.boxplot(df2[\"Cgpa\"],color=box_color)\n",
    "plt.xlabel(\"CGPA\")"
   ]
  },
  {
   "cell_type": "code",
   "execution_count": 23,
   "id": "ce95eca9-4980-4de3-86d2-92f19fe5ebc5",
   "metadata": {},
   "outputs": [
    {
     "data": {
      "text/plain": [
       "(29, 3)"
      ]
     },
     "execution_count": 23,
     "metadata": {},
     "output_type": "execute_result"
    }
   ],
   "source": [
    "df2[df2[\"Cgpa\"]<8.0].shape"
   ]
  },
  {
   "cell_type": "code",
   "execution_count": 24,
   "id": "421772de-6a58-4c7e-a735-1dfeb7e6a01b",
   "metadata": {},
   "outputs": [
    {
     "data": {
      "text/plain": [
       "(382, 3)"
      ]
     },
     "execution_count": 24,
     "metadata": {},
     "output_type": "execute_result"
    }
   ],
   "source": [
    "df2.shape"
   ]
  },
  {
   "cell_type": "code",
   "execution_count": 25,
   "id": "06736e23-900d-41cb-9ca8-e4463540cb36",
   "metadata": {},
   "outputs": [
    {
     "data": {
      "text/html": [
       "<div>\n",
       "<style scoped>\n",
       "    .dataframe tbody tr th:only-of-type {\n",
       "        vertical-align: middle;\n",
       "    }\n",
       "\n",
       "    .dataframe tbody tr th {\n",
       "        vertical-align: top;\n",
       "    }\n",
       "\n",
       "    .dataframe thead th {\n",
       "        text-align: right;\n",
       "    }\n",
       "</style>\n",
       "<table border=\"1\" class=\"dataframe\">\n",
       "  <thead>\n",
       "    <tr style=\"text-align: right;\">\n",
       "      <th></th>\n",
       "      <th>Enrolment No.</th>\n",
       "      <th>Name</th>\n",
       "      <th>Stream</th>\n",
       "      <th>COMPANY</th>\n",
       "      <th>PACKAGE</th>\n",
       "      <th>CGPA</th>\n",
       "    </tr>\n",
       "  </thead>\n",
       "  <tbody>\n",
       "    <tr>\n",
       "      <th>194</th>\n",
       "      <td>320804919</td>\n",
       "      <td>MOHAMMAD HASAN USMA</td>\n",
       "      <td>EEE</td>\n",
       "      <td>ANY TIME INVEST</td>\n",
       "      <td>3.0</td>\n",
       "      <td>7.836</td>\n",
       "    </tr>\n",
       "    <tr>\n",
       "      <th>196</th>\n",
       "      <td>9720802719</td>\n",
       "      <td>NIDHI MEHRA</td>\n",
       "      <td>CSE</td>\n",
       "      <td>MOBIKWIK</td>\n",
       "      <td>3.0</td>\n",
       "      <td>7.967</td>\n",
       "    </tr>\n",
       "    <tr>\n",
       "      <th>216</th>\n",
       "      <td>7520802819</td>\n",
       "      <td>UJJWAL SINGH RAWAT</td>\n",
       "      <td>ECE</td>\n",
       "      <td>XICO INDIA MANAGEMENT</td>\n",
       "      <td>1.8</td>\n",
       "      <td>6.528</td>\n",
       "    </tr>\n",
       "  </tbody>\n",
       "</table>\n",
       "</div>"
      ],
      "text/plain": [
       "     Enrolment No.                 Name Stream                COMPANY  \\\n",
       "194      320804919  MOHAMMAD HASAN USMA    EEE        ANY TIME INVEST   \n",
       "196     9720802719          NIDHI MEHRA    CSE               MOBIKWIK   \n",
       "216     7520802819   UJJWAL SINGH RAWAT    ECE  XICO INDIA MANAGEMENT   \n",
       "\n",
       "     PACKAGE   CGPA  \n",
       "194      3.0  7.836  \n",
       "196      3.0  7.967  \n",
       "216      1.8  6.528  "
      ]
     },
     "execution_count": 25,
     "metadata": {},
     "output_type": "execute_result"
    }
   ],
   "source": [
    "df[df[\"CGPA\"]<8]"
   ]
  },
  {
   "cell_type": "code",
   "execution_count": 26,
   "id": "06e2489b-6dde-476f-9f78-6153dc5a98be",
   "metadata": {},
   "outputs": [
    {
     "data": {
      "text/plain": [
       "(218, 6)"
      ]
     },
     "execution_count": 26,
     "metadata": {},
     "output_type": "execute_result"
    }
   ],
   "source": [
    "df.shape"
   ]
  },
  {
   "cell_type": "code",
   "execution_count": 27,
   "id": "f7e86a66-2b85-4c7e-b72c-e04e699b52c9",
   "metadata": {},
   "outputs": [
    {
     "data": {
      "text/html": [
       "<div>\n",
       "<style scoped>\n",
       "    .dataframe tbody tr th:only-of-type {\n",
       "        vertical-align: middle;\n",
       "    }\n",
       "\n",
       "    .dataframe tbody tr th {\n",
       "        vertical-align: top;\n",
       "    }\n",
       "\n",
       "    .dataframe thead th {\n",
       "        text-align: right;\n",
       "    }\n",
       "</style>\n",
       "<table border=\"1\" class=\"dataframe\">\n",
       "  <thead>\n",
       "    <tr style=\"text-align: right;\">\n",
       "      <th></th>\n",
       "      <th>Enrolment No.</th>\n",
       "      <th>Name</th>\n",
       "      <th>Stream</th>\n",
       "      <th>COMPANY</th>\n",
       "      <th>PACKAGE</th>\n",
       "      <th>CGPA</th>\n",
       "    </tr>\n",
       "  </thead>\n",
       "  <tbody>\n",
       "    <tr>\n",
       "      <th>216</th>\n",
       "      <td>7520802819</td>\n",
       "      <td>UJJWAL SINGH RAWAT</td>\n",
       "      <td>ECE</td>\n",
       "      <td>XICO INDIA MANAGEMENT</td>\n",
       "      <td>1.8</td>\n",
       "      <td>6.528</td>\n",
       "    </tr>\n",
       "  </tbody>\n",
       "</table>\n",
       "</div>"
      ],
      "text/plain": [
       "     Enrolment No.                Name Stream                COMPANY  PACKAGE  \\\n",
       "216     7520802819  UJJWAL SINGH RAWAT    ECE  XICO INDIA MANAGEMENT      1.8   \n",
       "\n",
       "      CGPA  \n",
       "216  6.528  "
      ]
     },
     "execution_count": 27,
     "metadata": {},
     "output_type": "execute_result"
    }
   ],
   "source": [
    "df[df[\"CGPA\"]<6.7]"
   ]
  },
  {
   "cell_type": "code",
   "execution_count": 28,
   "id": "7e0a83ed-8099-452d-8f00-c044b73bb6c8",
   "metadata": {},
   "outputs": [
    {
     "data": {
      "text/html": [
       "<div>\n",
       "<style scoped>\n",
       "    .dataframe tbody tr th:only-of-type {\n",
       "        vertical-align: middle;\n",
       "    }\n",
       "\n",
       "    .dataframe tbody tr th {\n",
       "        vertical-align: top;\n",
       "    }\n",
       "\n",
       "    .dataframe thead th {\n",
       "        text-align: right;\n",
       "    }\n",
       "</style>\n",
       "<table border=\"1\" class=\"dataframe\">\n",
       "  <thead>\n",
       "    <tr style=\"text-align: right;\">\n",
       "      <th></th>\n",
       "      <th>Enrolment No.</th>\n",
       "      <th>Name</th>\n",
       "      <th>Stream</th>\n",
       "      <th>COMPANY</th>\n",
       "      <th>PACKAGE</th>\n",
       "      <th>CGPA</th>\n",
       "    </tr>\n",
       "  </thead>\n",
       "  <tbody>\n",
       "    <tr>\n",
       "      <th>110</th>\n",
       "      <td>9420802719</td>\n",
       "      <td>SUMANT SHARMA</td>\n",
       "      <td>CSE</td>\n",
       "      <td>ADPUSHUP SOFTWARE INDIA</td>\n",
       "      <td>10.0</td>\n",
       "      <td>9.715</td>\n",
       "    </tr>\n",
       "  </tbody>\n",
       "</table>\n",
       "</div>"
      ],
      "text/plain": [
       "     Enrolment No.           Name Stream                  COMPANY  PACKAGE  \\\n",
       "110     9420802719  SUMANT SHARMA    CSE  ADPUSHUP SOFTWARE INDIA     10.0   \n",
       "\n",
       "      CGPA  \n",
       "110  9.715  "
      ]
     },
     "execution_count": 28,
     "metadata": {},
     "output_type": "execute_result"
    }
   ],
   "source": [
    "df[df[\"CGPA\"]>9.7]"
   ]
  },
  {
   "cell_type": "code",
   "execution_count": 29,
   "id": "97bc7333-84ec-4966-98c4-83d6f6904a72",
   "metadata": {},
   "outputs": [
    {
     "data": {
      "text/plain": [
       "8.00678"
      ]
     },
     "execution_count": 29,
     "metadata": {},
     "output_type": "execute_result"
    }
   ],
   "source": [
    "df[\"CGPA\"].quantile(0.01)"
   ]
  },
  {
   "cell_type": "code",
   "execution_count": 30,
   "id": "a3bf600b-d823-4e53-b884-1bf4e88b690e",
   "metadata": {},
   "outputs": [
    {
     "data": {
      "text/plain": [
       "15.119999999999981"
      ]
     },
     "execution_count": 30,
     "metadata": {},
     "output_type": "execute_result"
    }
   ],
   "source": [
    "df[\"PACKAGE\"].quantile(0.95)"
   ]
  },
  {
   "cell_type": "code",
   "execution_count": 31,
   "id": "bfffe05f-0996-4256-8f71-4fea96b300e9",
   "metadata": {},
   "outputs": [
    {
     "data": {
      "text/plain": [
       "1.902"
      ]
     },
     "execution_count": 31,
     "metadata": {},
     "output_type": "execute_result"
    }
   ],
   "source": [
    "df[\"PACKAGE\"].quantile(0.01)"
   ]
  },
  {
   "cell_type": "code",
   "execution_count": 32,
   "id": "30f8218e-e6f1-41c9-8927-c2219f0b972a",
   "metadata": {},
   "outputs": [
    {
     "data": {
      "text/plain": [
       "(41, 6)"
      ]
     },
     "execution_count": 32,
     "metadata": {},
     "output_type": "execute_result"
    }
   ],
   "source": [
    "df[df[\"PACKAGE\"]>10].shape"
   ]
  },
  {
   "cell_type": "code",
   "execution_count": 33,
   "id": "422b0eda-9ff1-4dab-8674-92c1786d2fe5",
   "metadata": {},
   "outputs": [
    {
     "data": {
      "text/plain": [
       "(218, 6)"
      ]
     },
     "execution_count": 33,
     "metadata": {},
     "output_type": "execute_result"
    }
   ],
   "source": [
    "df.shape"
   ]
  },
  {
   "cell_type": "code",
   "execution_count": 34,
   "id": "6946dc39-a33f-49d1-9fb3-a6b73eeb6b63",
   "metadata": {},
   "outputs": [],
   "source": [
    "df3=df[df[\"PACKAGE\"]>10]"
   ]
  },
  {
   "cell_type": "code",
   "execution_count": 35,
   "id": "023d490a-a4ec-430d-97e1-a53c2cb3ac44",
   "metadata": {},
   "outputs": [
    {
     "data": {
      "text/plain": [
       "9.085170731707317"
      ]
     },
     "execution_count": 35,
     "metadata": {},
     "output_type": "execute_result"
    }
   ],
   "source": [
    "df3[\"CGPA\"].mean()"
   ]
  },
  {
   "cell_type": "code",
   "execution_count": 36,
   "id": "6ebb56aa-37eb-4140-a392-eda23118a7a9",
   "metadata": {},
   "outputs": [],
   "source": [
    "df4=df[df[\"Stream\"]==\"IT\"]"
   ]
  },
  {
   "cell_type": "code",
   "execution_count": 37,
   "id": "3788e5d7-dbad-47af-8d68-f1f74a6188e2",
   "metadata": {},
   "outputs": [
    {
     "data": {
      "text/plain": [
       "<Axes: ylabel='PACKAGE'>"
      ]
     },
     "execution_count": 37,
     "metadata": {},
     "output_type": "execute_result"
    },
    {
     "data": {
      "image/png": "[encoded data removed]",
      "text/plain": [
       "<Figure size 640x480 with 1 Axes>"
      ]
     },
     "metadata": {},
     "output_type": "display_data"
    }
   ],
   "source": [
    "sn.boxplot(df4[\"PACKAGE\"])"
   ]
  },
  {
   "cell_type": "code",
   "execution_count": 38,
   "id": "95fb21be-0a2a-418a-b445-9fc831f6e544",
   "metadata": {},
   "outputs": [
    {
     "data": {
      "text/html": [
       "<div>\n",
       "<style scoped>\n",
       "    .dataframe tbody tr th:only-of-type {\n",
       "        vertical-align: middle;\n",
       "    }\n",
       "\n",
       "    .dataframe tbody tr th {\n",
       "        vertical-align: top;\n",
       "    }\n",
       "\n",
       "    .dataframe thead th {\n",
       "        text-align: right;\n",
       "    }\n",
       "</style>\n",
       "<table border=\"1\" class=\"dataframe\">\n",
       "  <thead>\n",
       "    <tr style=\"text-align: right;\">\n",
       "      <th></th>\n",
       "      <th>Enrolment No.</th>\n",
       "      <th>PACKAGE</th>\n",
       "      <th>CGPA</th>\n",
       "    </tr>\n",
       "  </thead>\n",
       "  <tbody>\n",
       "    <tr>\n",
       "      <th>count</th>\n",
       "      <td>5.200000e+01</td>\n",
       "      <td>52.000000</td>\n",
       "      <td>52.000000</td>\n",
       "    </tr>\n",
       "    <tr>\n",
       "      <th>mean</th>\n",
       "      <td>8.188111e+09</td>\n",
       "      <td>8.178269</td>\n",
       "      <td>9.033808</td>\n",
       "    </tr>\n",
       "    <tr>\n",
       "      <th>std</th>\n",
       "      <td>1.122666e+10</td>\n",
       "      <td>5.632634</td>\n",
       "      <td>0.350098</td>\n",
       "    </tr>\n",
       "    <tr>\n",
       "      <th>min</th>\n",
       "      <td>1.208077e+08</td>\n",
       "      <td>3.360000</td>\n",
       "      <td>8.364000</td>\n",
       "    </tr>\n",
       "    <tr>\n",
       "      <th>25%</th>\n",
       "      <td>1.295803e+09</td>\n",
       "      <td>4.500000</td>\n",
       "      <td>8.791750</td>\n",
       "    </tr>\n",
       "    <tr>\n",
       "      <th>50%</th>\n",
       "      <td>2.920803e+09</td>\n",
       "      <td>6.500000</td>\n",
       "      <td>9.024500</td>\n",
       "    </tr>\n",
       "    <tr>\n",
       "      <th>75%</th>\n",
       "      <td>8.595803e+09</td>\n",
       "      <td>10.000000</td>\n",
       "      <td>9.311500</td>\n",
       "    </tr>\n",
       "    <tr>\n",
       "      <th>max</th>\n",
       "      <td>3.562080e+10</td>\n",
       "      <td>28.360000</td>\n",
       "      <td>9.696000</td>\n",
       "    </tr>\n",
       "  </tbody>\n",
       "</table>\n",
       "</div>"
      ],
      "text/plain": [
       "       Enrolment No.    PACKAGE       CGPA\n",
       "count   5.200000e+01  52.000000  52.000000\n",
       "mean    8.188111e+09   8.178269   9.033808\n",
       "std     1.122666e+10   5.632634   0.350098\n",
       "min     1.208077e+08   3.360000   8.364000\n",
       "25%     1.295803e+09   4.500000   8.791750\n",
       "50%     2.920803e+09   6.500000   9.024500\n",
       "75%     8.595803e+09  10.000000   9.311500\n",
       "max     3.562080e+10  28.360000   9.696000"
      ]
     },
     "execution_count": 38,
     "metadata": {},
     "output_type": "execute_result"
    }
   ],
   "source": [
    "df4.describe()"
   ]
  },
  {
   "cell_type": "code",
   "execution_count": 39,
   "id": "ba0b39a0-ed87-4cc7-b3a1-73a1ff72dfad",
   "metadata": {},
   "outputs": [
    {
     "data": {
      "text/plain": [
       "<Axes: xlabel='PACKAGE', ylabel='Count'>"
      ]
     },
     "execution_count": 39,
     "metadata": {},
     "output_type": "execute_result"
    },
    {
     "data": {
      "image/png": "[encoded data removed]",
      "text/plain": [
       "<Figure size 640x480 with 1 Axes>"
      ]
     },
     "metadata": {},
     "output_type": "display_data"
    }
   ],
   "source": [
    "sn.histplot(df[\"PACKAGE\"],kde=True,color=box_color,bins=20,binwidth=3)"
   ]
  },
  {
   "cell_type": "code",
   "execution_count": 40,
   "id": "1a0e99da-b8bf-4d3f-8548-f9dac4b82eb8",
   "metadata": {},
   "outputs": [
    {
     "data": {
      "text/plain": [
       "0.5137614678899083"
      ]
     },
     "execution_count": 40,
     "metadata": {},
     "output_type": "execute_result"
    }
   ],
   "source": [
    "df[(df[\"PACKAGE\"] >= 3) & (df[\"PACKAGE\"] <= 5)].shape[0]/218"
   ]
  },
  {
   "cell_type": "code",
   "execution_count": 41,
   "id": "efbc60a4-afe7-43cc-b72c-dbd2455f8574",
   "metadata": {},
   "outputs": [
    {
     "data": {
      "text/plain": [
       "(218, 6)"
      ]
     },
     "execution_count": 41,
     "metadata": {},
     "output_type": "execute_result"
    }
   ],
   "source": [
    "df.shape"
   ]
  },
  {
   "cell_type": "code",
   "execution_count": 42,
   "id": "ccf052f3-5a37-4449-9afc-cdf3a36ee596",
   "metadata": {},
   "outputs": [
    {
     "data": {
      "text/plain": [
       "54.12844036697248"
      ]
     },
     "execution_count": 42,
     "metadata": {},
     "output_type": "execute_result"
    }
   ],
   "source": [
    "(df[(df[\"PACKAGE\"] >= 4) & (df[\"PACKAGE\"] <= 6)].shape[0]/218)*100"
   ]
  },
  {
   "cell_type": "code",
   "execution_count": 43,
   "id": "ea7fe5a6-0fd1-48d4-bf86-2ef99ffc485e",
   "metadata": {},
   "outputs": [
    {
     "data": {
      "text/plain": [
       "3.859610927284603"
      ]
     },
     "execution_count": 43,
     "metadata": {},
     "output_type": "execute_result"
    }
   ],
   "source": [
    "df[\"PACKAGE\"].skew()"
   ]
  },
  {
   "cell_type": "code",
   "execution_count": 44,
   "id": "f6cfd637-9b57-448c-9ae6-18c91c4c25b2",
   "metadata": {},
   "outputs": [
    {
     "data": {
      "text/plain": [
       "(218, 6)"
      ]
     },
     "execution_count": 44,
     "metadata": {},
     "output_type": "execute_result"
    }
   ],
   "source": [
    "df.shape"
   ]
  },
  {
   "cell_type": "code",
   "execution_count": 45,
   "id": "bb9f6747-16dc-49b8-98cb-1b6cb4b43114",
   "metadata": {},
   "outputs": [
    {
     "data": {
      "text/plain": [
       "(218,)"
      ]
     },
     "execution_count": 45,
     "metadata": {},
     "output_type": "execute_result"
    }
   ],
   "source": [
    "df[\"CGPA\"].shape"
   ]
  },
  {
   "cell_type": "code",
   "execution_count": 46,
   "id": "67627e15-15c8-433d-b138-2d5261a04340",
   "metadata": {},
   "outputs": [],
   "source": [
    "df5=df[df[\"CGPA\"]>7.5]\n"
   ]
  },
  {
   "cell_type": "code",
   "execution_count": 47,
   "id": "b02155dd-f4ce-46d1-82b0-c2bd20dc9eb9",
   "metadata": {},
   "outputs": [
    {
     "data": {
      "text/plain": [
       "0.21038960652192865"
      ]
     },
     "execution_count": 47,
     "metadata": {},
     "output_type": "execute_result"
    }
   ],
   "source": [
    "df[\"CGPA\"].corr(df[\"PACKAGE\"])"
   ]
  },
  {
   "cell_type": "code",
   "execution_count": 48,
   "id": "6295d64b-243d-4385-8029-9f9d12c95606",
   "metadata": {},
   "outputs": [],
   "source": [
    "df6=df5[df5[\"PACKAGE\"]<18]"
   ]
  },
  {
   "cell_type": "code",
   "execution_count": 49,
   "id": "8b306e8f-fa3f-4765-a7e9-2e2bb2bf80b7",
   "metadata": {},
   "outputs": [
    {
     "data": {
      "text/plain": [
       "0.21220867929164494"
      ]
     },
     "execution_count": 49,
     "metadata": {},
     "output_type": "execute_result"
    }
   ],
   "source": [
    "df6[\"CGPA\"].corr(df6[\"PACKAGE\"])"
   ]
  },
  {
   "cell_type": "code",
   "execution_count": 50,
   "id": "02f43f6e-4df1-4ba9-a100-254f4e0032a7",
   "metadata": {},
   "outputs": [
    {
     "data": {
      "text/plain": [
       "<seaborn.axisgrid.JointGrid at 0x198320f0110>"
      ]
     },
     "execution_count": 50,
     "metadata": {},
     "output_type": "execute_result"
    },
    {
     "data": {
      "image/png": "[encoded data removed]",
      "text/plain": [
       "<Figure size 800x800 with 3 Axes>"
      ]
     },
     "metadata": {},
     "output_type": "display_data"
    }
   ],
   "source": [
    "sn.jointplot(x='CGPA', y='PACKAGE', data=df, kind='reg',color=box_color,height=8)"
   ]
  },
  {
   "cell_type": "code",
   "execution_count": 51,
   "id": "1e7d6c09-4772-4c8d-9040-2cde0f7f632c",
   "metadata": {},
   "outputs": [],
   "source": [
    "import statsmodels.api as sm"
   ]
  },
  {
   "cell_type": "code",
   "execution_count": 52,
   "id": "1edba50d-49d3-46e0-a023-389f98a5f17a",
   "metadata": {},
   "outputs": [],
   "source": [
    "X = df6[\"CGPA\"]\n",
    "Y = df6[\"PACKAGE\"]"
   ]
  },
  {
   "cell_type": "code",
   "execution_count": 53,
   "id": "990886f3-d86f-4739-b460-554b7d435db5",
   "metadata": {},
   "outputs": [],
   "source": [
    "X=sm.add_constant(X)"
   ]
  },
  {
   "cell_type": "code",
   "execution_count": 54,
   "id": "396e9bd4-9960-46ba-8557-87ff8ad7231f",
   "metadata": {},
   "outputs": [],
   "source": [
    "model = sm.OLS(Y, X).fit()"
   ]
  },
  {
   "cell_type": "code",
   "execution_count": 55,
   "id": "f1916419-2449-466d-9990-8f821e89ac22",
   "metadata": {},
   "outputs": [],
   "source": [
    "mod_df=model.summary()"
   ]
  },
  {
   "cell_type": "code",
   "execution_count": 56,
   "id": "983d90c5-bde7-4a11-ace1-f3cda095e913",
   "metadata": {},
   "outputs": [
    {
     "name": "stdout",
     "output_type": "stream",
     "text": [
      "                            OLS Regression Results                            \n",
      "==============================================================================\n",
      "Dep. Variable:                PACKAGE   R-squared:                       0.045\n",
      "Model:                            OLS   Adj. R-squared:                  0.040\n",
      "Method:                 Least Squares   F-statistic:                     9.714\n",
      "Date:                Sun, 05 Jan 2025   Prob (F-statistic):            0.00209\n",
      "Time:                        09:51:27   Log-Likelihood:                -545.62\n",
      "No. Observations:                 208   AIC:                             1095.\n",
      "Df Residuals:                     206   BIC:                             1102.\n",
      "Df Model:                           1                                         \n",
      "Covariance Type:            nonrobust                                         \n",
      "==============================================================================\n",
      "                 coef    std err          t      P>|t|      [0.025      0.975]\n",
      "------------------------------------------------------------------------------\n",
      "const        -10.7744      5.568     -1.935      0.054     -21.751       0.202\n",
      "CGPA           1.9363      0.621      3.117      0.002       0.711       3.161\n",
      "==============================================================================\n",
      "Omnibus:                       39.183   Durbin-Watson:                   1.008\n",
      "Prob(Omnibus):                  0.000   Jarque-Bera (JB):               55.235\n",
      "Skew:                           1.233   Prob(JB):                     1.01e-12\n",
      "Kurtosis:                       3.545   Cond. No.                         217.\n",
      "==============================================================================\n",
      "\n",
      "Notes:\n",
      "[1] Standard Errors assume that the covariance matrix of the errors is correctly specified.\n"
     ]
    }
   ],
   "source": [
    "print(mod_df)"
   ]
  },
  {
   "cell_type": "code",
   "execution_count": 57,
   "id": "ee60c123-cb43-48d7-9f55-d2421c67e920",
   "metadata": {},
   "outputs": [],
   "source": [
    "x=df[\"CGPA\"]\n",
    "y=df[\"PACKAGE\"]"
   ]
  },
  {
   "cell_type": "code",
   "execution_count": 58,
   "id": "6aa7c41b-9502-4884-8251-fd9fc202f2ec",
   "metadata": {},
   "outputs": [],
   "source": [
    "x=sm.add_constant(x)"
   ]
  },
  {
   "cell_type": "code",
   "execution_count": 59,
   "id": "632baf22-9015-4cd1-a686-a2533d7a1f64",
   "metadata": {},
   "outputs": [],
   "source": [
    "model1=sm.OLS(y, x).fit()"
   ]
  },
  {
   "cell_type": "code",
   "execution_count": 60,
   "id": "a4c1cecf-0994-424a-b42c-af95f6ab1bbd",
   "metadata": {},
   "outputs": [
    {
     "name": "stdout",
     "output_type": "stream",
     "text": [
      "                            OLS Regression Results                            \n",
      "==============================================================================\n",
      "Dep. Variable:                PACKAGE   R-squared:                       0.044\n",
      "Model:                            OLS   Adj. R-squared:                  0.040\n",
      "Method:                 Least Squares   F-statistic:                     10.00\n",
      "Date:                Sun, 05 Jan 2025   Prob (F-statistic):            0.00179\n",
      "Time:                        09:51:27   Log-Likelihood:                -714.40\n",
      "No. Observations:                 218   AIC:                             1433.\n",
      "Df Residuals:                     216   BIC:                             1440.\n",
      "Df Model:                           1                                         \n",
      "Covariance Type:            nonrobust                                         \n",
      "==============================================================================\n",
      "                 coef    std err          t      P>|t|      [0.025      0.975]\n",
      "------------------------------------------------------------------------------\n",
      "const        -22.8466      9.636     -2.371      0.019     -41.840      -3.853\n",
      "CGPA           3.4008      1.075      3.163      0.002       1.282       5.520\n",
      "==============================================================================\n",
      "Omnibus:                      208.333   Durbin-Watson:                   1.635\n",
      "Prob(Omnibus):                  0.000   Jarque-Bera (JB):             3948.480\n",
      "Skew:                           3.834   Prob(JB):                         0.00\n",
      "Kurtosis:                      22.388   Cond. No.                         200.\n",
      "==============================================================================\n",
      "\n",
      "Notes:\n",
      "[1] Standard Errors assume that the covariance matrix of the errors is correctly specified.\n"
     ]
    }
   ],
   "source": [
    "print(model1.summary())"
   ]
  },
  {
   "cell_type": "code",
   "execution_count": 61,
   "id": "3e0b74ad-60f0-4778-a60a-95468d0bb02c",
   "metadata": {},
   "outputs": [
    {
     "data": {
      "text/plain": [
       "COMPANY\n",
       "ACCENTURE                   4.716216\n",
       "ADPUSHUP SOFTWARE INDIA    10.000000\n",
       "AIRTEL                      5.000000\n",
       "AMAZON                     26.871667\n",
       "ANY TIME INVEST             3.000000\n",
       "                             ...    \n",
       "YAMAHA MOTOR                6.000000\n",
       "ZIGRAM                      5.000000\n",
       "ZOMATO                     31.200000\n",
       "ZS ASSOCIATES              13.300000\n",
       "sopra steria                6.000000\n",
       "Name: PACKAGE, Length: 63, dtype: float64"
      ]
     },
     "execution_count": 61,
     "metadata": {},
     "output_type": "execute_result"
    }
   ],
   "source": [
    "df.groupby(\"COMPANY\")[\"PACKAGE\"].mean()"
   ]
  },
  {
   "cell_type": "code",
   "execution_count": 62,
   "id": "dc77bab3-1533-46a9-af63-af3786f5767e",
   "metadata": {},
   "outputs": [
    {
     "data": {
      "text/plain": [
       "COMPANY\n",
       "ADPUSHUP SOFTWARE INDIA    10.00\n",
       "AMAZON                     28.36\n",
       "BNY MELLON TECHNOLOGY      21.64\n",
       "CHHAYOS                    12.00\n",
       "CICADA                     12.00\n",
       "ELECBITS                   11.00\n",
       "INFOEDGE                   10.00\n",
       "INTERVUENET TECHNOLOGY     12.50\n",
       "ION GROUP                  14.10\n",
       "LIVE YOUR BEST LIFE        13.60\n",
       "SHL                        10.00\n",
       "SYFE                       13.50\n",
       "SYNOPSYS                   14.04\n",
       "TEJAS NETWORKS             10.00\n",
       "TORTOISE                   15.00\n",
       "TRAVCLAN                   10.00\n",
       "TURINGMINDS                19.20\n",
       "ZOMATO                     50.00\n",
       "ZS ASSOCIATES              13.65\n",
       "Name: PACKAGE, dtype: float64"
      ]
     },
     "execution_count": 62,
     "metadata": {},
     "output_type": "execute_result"
    }
   ],
   "source": [
    "df[df[\"PACKAGE\"]>=10].groupby(\"COMPANY\")[\"PACKAGE\"].median()"
   ]
  },
  {
   "cell_type": "code",
   "execution_count": 63,
   "id": "aa8ebc5c-422d-46a6-abeb-f868b22a22d7",
   "metadata": {},
   "outputs": [
    {
     "data": {
      "text/plain": [
       "COMPANY\n",
       "ADPUSHUP SOFTWARE INDIA     1\n",
       "AMAZON                      6\n",
       "BNY MELLON TECHNOLOGY       1\n",
       "CHHAYOS                     1\n",
       "CICADA                      1\n",
       "ELECBITS                    1\n",
       "INFOEDGE                    2\n",
       "INTERVUENET TECHNOLOGY      1\n",
       "ION GROUP                   2\n",
       "LIVE YOUR BEST LIFE         1\n",
       "SHL                         2\n",
       "SYFE                        1\n",
       "SYNOPSYS                    1\n",
       "TEJAS NETWORKS              3\n",
       "TORTOISE                    1\n",
       "TRAVCLAN                    6\n",
       "TURINGMINDS                 1\n",
       "ZOMATO                      3\n",
       "ZS ASSOCIATES              20\n",
       "Name: PACKAGE, dtype: int64"
      ]
     },
     "execution_count": 63,
     "metadata": {},
     "output_type": "execute_result"
    }
   ],
   "source": [
    "df[df[\"PACKAGE\"]>=10].groupby(\"COMPANY\")[\"PACKAGE\"].count()"
   ]
  },
  {
   "cell_type": "code",
   "execution_count": 64,
   "id": "320e462c-0edb-4e83-9c4e-a8a738eba6f3",
   "metadata": {},
   "outputs": [
    {
     "data": {
      "text/plain": [
       "63"
      ]
     },
     "execution_count": 64,
     "metadata": {},
     "output_type": "execute_result"
    }
   ],
   "source": [
    "df[\"COMPANY\"].unique().shape[0]"
   ]
  },
  {
   "cell_type": "code",
   "execution_count": 65,
   "id": "79f10db2-3650-4b46-b1db-ef54b3626533",
   "metadata": {},
   "outputs": [
    {
     "data": {
      "text/plain": [
       "array(['TEJAS NETWORKS', 'TRAVCLAN', 'BNY MELLON TECHNOLOGY', 'AMAZON',\n",
       "       'ZS ASSOCIATES', 'TORTOISE', 'ZOMATO', 'ESTEL TECHNOLOGIES',\n",
       "       'RTDS', 'ACCENTURE', 'LIVE YOUR BEST LIFE', 'TURINGMINDS',\n",
       "       'INFOEDGE', 'GREYB', 'LIBSYS', 'STUDIO GRAPHENE', 'TCS',\n",
       "       'sopra steria', 'ION GROUP', 'INTERVUENET TECHNOLOGY',\n",
       "       'APPLICATE AI', 'CHHAYOS', 'APPBREW', 'NEWGEN', 'COGNIZANT',\n",
       "       'CELEBAL TECHNOLOGIES', 'JOSH TECHNOLOGY',\n",
       "       'ADPUSHUP SOFTWARE INDIA', 'SHL', 'HEXAWARE TECHNOLOGIES',\n",
       "       'PROTIVITI', 'S & P GLOBAL', 'GEMINI SOLUTIONS', 'SYNOPSYS',\n",
       "       'YAMAHA MOTOR', 'RELIANCE JIO', 'DROOM', 'MAGICEDTECH', 'ZIGRAM',\n",
       "       'CVENT', 'NIRVANA', 'NETWORK 18 PVT. LTD.', 'ELECBITS', 'IBM',\n",
       "       'ERICSSON', 'CONSULT ADD', 'DEUTSCHE TELEKOM DIGITAL', 'AVALON',\n",
       "       'CICADA', 'ANY TIME INVEST', 'MOBIKWIK', 'WTI CABS',\n",
       "       'CRYSTAL POWER', 'RNF TECHNOLOGIES', 'MOGLIX', 'AIRTEL', 'ISOTON',\n",
       "       'BIGGBRAINS', 'SYFE', 'BYJUS', 'CISCO', 'XICO INDIA MANAGEMENT',\n",
       "       'BAILEY FISHER'], dtype=object)"
      ]
     },
     "execution_count": 65,
     "metadata": {},
     "output_type": "execute_result"
    }
   ],
   "source": [
    "df[\"COMPANY\"].unique()"
   ]
  },
  {
   "cell_type": "code",
   "execution_count": 67,
   "id": "e008af70-18ac-44a6-bf0c-5be2ef46bd61",
   "metadata": {},
   "outputs": [],
   "source": [
    "df7=pd.read_excel(r\"C:\\Users\\ASUS\\Desktop\\Analytics Projects\\Placement Analysis Advance Project\\Company category.xlsx\")"
   ]
  },
  {
   "cell_type": "code",
   "execution_count": 73,
   "id": "bc8f6022-9043-4343-9c2e-500bd8350a81",
   "metadata": {},
   "outputs": [
    {
     "data": {
      "text/plain": [
       "Category\n",
       "Service-Based    117\n",
       "Product-Based    101\n",
       "Name: count, dtype: int64"
      ]
     },
     "execution_count": 73,
     "metadata": {},
     "output_type": "execute_result"
    }
   ],
   "source": [
    "df7.value_counts(df7[\"Category\"])"
   ]
  },
  {
   "cell_type": "code",
   "execution_count": 74,
   "id": "246e6236-741a-41f0-b11b-bd9fb06d19f7",
   "metadata": {},
   "outputs": [
    {
     "data": {
      "text/plain": [
       "Category\n",
       "Product-Based    8.448218\n",
       "Service-Based    6.868718\n",
       "Name: PACKAGE, dtype: float64"
      ]
     },
     "execution_count": 74,
     "metadata": {},
     "output_type": "execute_result"
    }
   ],
   "source": [
    "df7.groupby(\"Category\")[\"PACKAGE\"].mean()"
   ]
  },
  {
   "cell_type": "code",
   "execution_count": 77,
   "id": "ba0a3558-6810-4b3d-8e04-9f0f7f3aa6ce",
   "metadata": {},
   "outputs": [
    {
     "data": {
      "text/plain": [
       "Category\n",
       "Product-Based    50.00\n",
       "Service-Based    21.64\n",
       "Name: PACKAGE, dtype: float64"
      ]
     },
     "execution_count": 77,
     "metadata": {},
     "output_type": "execute_result"
    }
   ],
   "source": [
    "df7.groupby(\"Category\")[\"PACKAGE\"].max()"
   ]
  },
  {
   "cell_type": "code",
   "execution_count": 85,
   "id": "8e5859a0-d7a1-44ec-8bcc-1c90d0f413f9",
   "metadata": {},
   "outputs": [
    {
     "data": {
      "text/html": [
       "<div>\n",
       "<style scoped>\n",
       "    .dataframe tbody tr th:only-of-type {\n",
       "        vertical-align: middle;\n",
       "    }\n",
       "\n",
       "    .dataframe tbody tr th {\n",
       "        vertical-align: top;\n",
       "    }\n",
       "\n",
       "    .dataframe thead th {\n",
       "        text-align: right;\n",
       "    }\n",
       "</style>\n",
       "<table border=\"1\" class=\"dataframe\">\n",
       "  <thead>\n",
       "    <tr style=\"text-align: right;\">\n",
       "      <th></th>\n",
       "      <th>Enrolment No.</th>\n",
       "      <th>Name</th>\n",
       "      <th>Stream</th>\n",
       "      <th>COMPANY</th>\n",
       "      <th>PACKAGE</th>\n",
       "      <th>CGPA</th>\n",
       "      <th>Category</th>\n",
       "    </tr>\n",
       "  </thead>\n",
       "  <tbody>\n",
       "    <tr>\n",
       "      <th>43</th>\n",
       "      <td>35220802719</td>\n",
       "      <td>ANSH KAUSHIK</td>\n",
       "      <td>CSE A</td>\n",
       "      <td>TURINGMINDS</td>\n",
       "      <td>19.20</td>\n",
       "      <td>9.178</td>\n",
       "      <td>Service-Based</td>\n",
       "    </tr>\n",
       "    <tr>\n",
       "      <th>31</th>\n",
       "      <td>20320802719</td>\n",
       "      <td>PARIDHI GULATI</td>\n",
       "      <td>CSE B</td>\n",
       "      <td>ZOMATO</td>\n",
       "      <td>20.00</td>\n",
       "      <td>9.525</td>\n",
       "      <td>Product-Based</td>\n",
       "    </tr>\n",
       "    <tr>\n",
       "      <th>6</th>\n",
       "      <td>2220803119</td>\n",
       "      <td>AMISHA CHANDNA</td>\n",
       "      <td>IT</td>\n",
       "      <td>BNY MELLON TECHNOLOGY</td>\n",
       "      <td>21.64</td>\n",
       "      <td>8.897</td>\n",
       "      <td>Service-Based</td>\n",
       "    </tr>\n",
       "    <tr>\n",
       "      <th>7</th>\n",
       "      <td>620802819</td>\n",
       "      <td>ANSH GERA</td>\n",
       "      <td>ECE A</td>\n",
       "      <td>AMAZON</td>\n",
       "      <td>28.36</td>\n",
       "      <td>9.431</td>\n",
       "      <td>Product-Based</td>\n",
       "    </tr>\n",
       "    <tr>\n",
       "      <th>8</th>\n",
       "      <td>20820803119</td>\n",
       "      <td>TULSI</td>\n",
       "      <td>IT</td>\n",
       "      <td>AMAZON</td>\n",
       "      <td>28.36</td>\n",
       "      <td>9.256</td>\n",
       "      <td>Product-Based</td>\n",
       "    </tr>\n",
       "    <tr>\n",
       "      <th>184</th>\n",
       "      <td>3520803119</td>\n",
       "      <td>SUMIT BATHLA</td>\n",
       "      <td>IT</td>\n",
       "      <td>AMAZON</td>\n",
       "      <td>28.36</td>\n",
       "      <td>8.986</td>\n",
       "      <td>Product-Based</td>\n",
       "    </tr>\n",
       "    <tr>\n",
       "      <th>88</th>\n",
       "      <td>1120807220</td>\n",
       "      <td>SWATI</td>\n",
       "      <td>CSE B</td>\n",
       "      <td>AMAZON</td>\n",
       "      <td>44.00</td>\n",
       "      <td>9.069</td>\n",
       "      <td>Product-Based</td>\n",
       "    </tr>\n",
       "    <tr>\n",
       "      <th>152</th>\n",
       "      <td>3320802719</td>\n",
       "      <td>AKASH SAMAL</td>\n",
       "      <td>CSE A</td>\n",
       "      <td>ZOMATO</td>\n",
       "      <td>50.00</td>\n",
       "      <td>9.014</td>\n",
       "      <td>Product-Based</td>\n",
       "    </tr>\n",
       "    <tr>\n",
       "      <th>195</th>\n",
       "      <td>4020802719</td>\n",
       "      <td>SHUBHAM JINDAL</td>\n",
       "      <td>CSE A</td>\n",
       "      <td>ZOMATO</td>\n",
       "      <td>50.00</td>\n",
       "      <td>9.407</td>\n",
       "      <td>Product-Based</td>\n",
       "    </tr>\n",
       "  </tbody>\n",
       "</table>\n",
       "</div>"
      ],
      "text/plain": [
       "     Enrolment No.            Name Stream                COMPANY  PACKAGE  \\\n",
       "43     35220802719    ANSH KAUSHIK  CSE A            TURINGMINDS    19.20   \n",
       "31     20320802719  PARIDHI GULATI  CSE B                 ZOMATO    20.00   \n",
       "6       2220803119  AMISHA CHANDNA     IT  BNY MELLON TECHNOLOGY    21.64   \n",
       "7        620802819       ANSH GERA  ECE A                 AMAZON    28.36   \n",
       "8      20820803119           TULSI     IT                 AMAZON    28.36   \n",
       "184     3520803119    SUMIT BATHLA     IT                 AMAZON    28.36   \n",
       "88      1120807220           SWATI  CSE B                 AMAZON    44.00   \n",
       "152     3320802719     AKASH SAMAL  CSE A                 ZOMATO    50.00   \n",
       "195     4020802719  SHUBHAM JINDAL  CSE A                 ZOMATO    50.00   \n",
       "\n",
       "      CGPA       Category  \n",
       "43   9.178  Service-Based  \n",
       "31   9.525  Product-Based  \n",
       "6    8.897  Service-Based  \n",
       "7    9.431  Product-Based  \n",
       "8    9.256  Product-Based  \n",
       "184  8.986  Product-Based  \n",
       "88   9.069  Product-Based  \n",
       "152  9.014  Product-Based  \n",
       "195  9.407  Product-Based  "
      ]
     },
     "execution_count": 85,
     "metadata": {},
     "output_type": "execute_result"
    }
   ],
   "source": [
    "df7[df7[\"PACKAGE\"]>18].sort_values(by=\"PACKAGE\")"
   ]
  },
  {
   "cell_type": "code",
   "execution_count": 88,
   "id": "b646cc8c-38b4-4cf1-ae21-3cfadaee24ca",
   "metadata": {},
   "outputs": [
    {
     "data": {
      "text/html": [
       "<div>\n",
       "<style scoped>\n",
       "    .dataframe tbody tr th:only-of-type {\n",
       "        vertical-align: middle;\n",
       "    }\n",
       "\n",
       "    .dataframe tbody tr th {\n",
       "        vertical-align: top;\n",
       "    }\n",
       "\n",
       "    .dataframe thead th {\n",
       "        text-align: right;\n",
       "    }\n",
       "</style>\n",
       "<table border=\"1\" class=\"dataframe\">\n",
       "  <thead>\n",
       "    <tr style=\"text-align: right;\">\n",
       "      <th></th>\n",
       "      <th>Enrolment No.</th>\n",
       "      <th>PACKAGE</th>\n",
       "      <th>CGPA</th>\n",
       "    </tr>\n",
       "  </thead>\n",
       "  <tbody>\n",
       "    <tr>\n",
       "      <th>count</th>\n",
       "      <td>2.180000e+02</td>\n",
       "      <td>218.000000</td>\n",
       "      <td>218.000000</td>\n",
       "    </tr>\n",
       "    <tr>\n",
       "      <th>mean</th>\n",
       "      <td>8.871262e+09</td>\n",
       "      <td>7.600505</td>\n",
       "      <td>8.952789</td>\n",
       "    </tr>\n",
       "    <tr>\n",
       "      <th>std</th>\n",
       "      <td>1.188426e+10</td>\n",
       "      <td>6.573707</td>\n",
       "      <td>0.406675</td>\n",
       "    </tr>\n",
       "    <tr>\n",
       "      <th>min</th>\n",
       "      <td>1.208072e+08</td>\n",
       "      <td>1.560000</td>\n",
       "      <td>6.528000</td>\n",
       "    </tr>\n",
       "    <tr>\n",
       "      <th>25%</th>\n",
       "      <td>1.745803e+09</td>\n",
       "      <td>4.500000</td>\n",
       "      <td>8.713500</td>\n",
       "    </tr>\n",
       "    <tr>\n",
       "      <th>50%</th>\n",
       "      <td>4.620803e+09</td>\n",
       "      <td>5.000000</td>\n",
       "      <td>8.958000</td>\n",
       "    </tr>\n",
       "    <tr>\n",
       "      <th>75%</th>\n",
       "      <td>8.795803e+09</td>\n",
       "      <td>9.750000</td>\n",
       "      <td>9.249750</td>\n",
       "    </tr>\n",
       "    <tr>\n",
       "      <th>max</th>\n",
       "      <td>7.512080e+10</td>\n",
       "      <td>50.000000</td>\n",
       "      <td>9.715000</td>\n",
       "    </tr>\n",
       "  </tbody>\n",
       "</table>\n",
       "</div>"
      ],
      "text/plain": [
       "       Enrolment No.     PACKAGE        CGPA\n",
       "count   2.180000e+02  218.000000  218.000000\n",
       "mean    8.871262e+09    7.600505    8.952789\n",
       "std     1.188426e+10    6.573707    0.406675\n",
       "min     1.208072e+08    1.560000    6.528000\n",
       "25%     1.745803e+09    4.500000    8.713500\n",
       "50%     4.620803e+09    5.000000    8.958000\n",
       "75%     8.795803e+09    9.750000    9.249750\n",
       "max     7.512080e+10   50.000000    9.715000"
      ]
     },
     "execution_count": 88,
     "metadata": {},
     "output_type": "execute_result"
    }
   ],
   "source": [
    "df7.describe()"
   ]
  },
  {
   "cell_type": "code",
   "execution_count": 90,
   "id": "2420d5b7-02a6-4ec6-8ef1-197fb01038f8",
   "metadata": {},
   "outputs": [
    {
     "data": {
      "text/plain": [
       "Category\n",
       "Product-Based    18.264231\n",
       "Service-Based    13.277241\n",
       "Name: PACKAGE, dtype: float64"
      ]
     },
     "execution_count": 90,
     "metadata": {},
     "output_type": "execute_result"
    }
   ],
   "source": [
    "df7[df7[\"PACKAGE\"]>9.7].groupby(\"Category\")[\"PACKAGE\"].mean()"
   ]
  },
  {
   "cell_type": "code",
   "execution_count": null,
   "id": "0818373d-0bb5-488f-9955-84eea0d74f92",
   "metadata": {},
   "outputs": [],
   "source": []
  }
 ],
 "metadata": {
  "kernelspec": {
   "display_name": "Python 3 (ipykernel)",
   "language": "python",
   "name": "python3"
  },
  "language_info": {
   "codemirror_mode": {
    "name": "ipython",
    "version": 3
   },
   "file_extension": ".py",
   "mimetype": "text/x-python",
   "name": "python",
   "nbconvert_exporter": "python",
   "pygments_lexer": "ipython3",
   "version": "3.12.1"
  }
 },
 "nbformat": 4,
 "nbformat_minor": 5
}
