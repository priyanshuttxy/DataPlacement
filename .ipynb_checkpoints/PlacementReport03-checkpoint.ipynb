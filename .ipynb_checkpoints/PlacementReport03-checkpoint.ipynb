{
 "cells": [
  {
   "cell_type": "code",
   "execution_count": 80,
   "id": "64ffe506-3e92-43b8-a3cb-d3ab91d91117",
   "metadata": {},
   "outputs": [],
   "source": [
    "import pandas as pd\n",
    "import numpy as np\n",
    "import matplotlib.pyplot as plt\n",
    "import seaborn as sn"
   ]
  },
  {
   "cell_type": "code",
   "execution_count": 81,
   "id": "40c0c702-44f0-4799-9969-e93ad0378420",
   "metadata": {},
   "outputs": [],
   "source": [
    "df=pd.read_excel(\"Final Placement Report 2019-23.xlsx\")"
   ]
  },
  {
   "cell_type": "code",
   "execution_count": 82,
   "id": "b23a8e27-89de-4477-926b-f73ee6cdb853",
   "metadata": {},
   "outputs": [
    {
     "data": {
      "text/html": [
       "<div>\n",
       "<style scoped>\n",
       "    .dataframe tbody tr th:only-of-type {\n",
       "        vertical-align: middle;\n",
       "    }\n",
       "\n",
       "    .dataframe tbody tr th {\n",
       "        vertical-align: top;\n",
       "    }\n",
       "\n",
       "    .dataframe thead th {\n",
       "        text-align: right;\n",
       "    }\n",
       "</style>\n",
       "<table border=\"1\" class=\"dataframe\">\n",
       "  <thead>\n",
       "    <tr style=\"text-align: right;\">\n",
       "      <th></th>\n",
       "      <th>Enrolment No.</th>\n",
       "      <th>Name</th>\n",
       "      <th>Stream</th>\n",
       "      <th>COMPANY</th>\n",
       "      <th>PACKAGE</th>\n",
       "      <th>CGPA</th>\n",
       "    </tr>\n",
       "  </thead>\n",
       "  <tbody>\n",
       "    <tr>\n",
       "      <th>0</th>\n",
       "      <td>10020802719</td>\n",
       "      <td>GAURAV SINGH CHAUHAN</td>\n",
       "      <td>CSE B</td>\n",
       "      <td>TEJAS NETWORKS</td>\n",
       "      <td>10.0</td>\n",
       "      <td>8.780</td>\n",
       "    </tr>\n",
       "    <tr>\n",
       "      <th>1</th>\n",
       "      <td>4420802719</td>\n",
       "      <td>JANVI GUPTA</td>\n",
       "      <td>CSE A</td>\n",
       "      <td>TEJAS NETWORKS</td>\n",
       "      <td>10.0</td>\n",
       "      <td>9.243</td>\n",
       "    </tr>\n",
       "    <tr>\n",
       "      <th>2</th>\n",
       "      <td>6720802719</td>\n",
       "      <td>NIKHIL DUSEJA</td>\n",
       "      <td>CSE B</td>\n",
       "      <td>TEJAS NETWORKS</td>\n",
       "      <td>10.0</td>\n",
       "      <td>9.294</td>\n",
       "    </tr>\n",
       "    <tr>\n",
       "      <th>3</th>\n",
       "      <td>2620803119</td>\n",
       "      <td>HRITIK KESHARWANI</td>\n",
       "      <td>IT</td>\n",
       "      <td>TRAVCLAN</td>\n",
       "      <td>10.0</td>\n",
       "      <td>9.308</td>\n",
       "    </tr>\n",
       "    <tr>\n",
       "      <th>4</th>\n",
       "      <td>1220802719</td>\n",
       "      <td>MOHAK SHARMA</td>\n",
       "      <td>CSE A</td>\n",
       "      <td>TRAVCLAN</td>\n",
       "      <td>10.0</td>\n",
       "      <td>9.285</td>\n",
       "    </tr>\n",
       "  </tbody>\n",
       "</table>\n",
       "</div>"
      ],
      "text/plain": [
       "   Enrolment No.                  Name Stream         COMPANY  PACKAGE   CGPA\n",
       "0    10020802719  GAURAV SINGH CHAUHAN  CSE B  TEJAS NETWORKS     10.0  8.780\n",
       "1     4420802719           JANVI GUPTA  CSE A  TEJAS NETWORKS     10.0  9.243\n",
       "2     6720802719         NIKHIL DUSEJA  CSE B  TEJAS NETWORKS     10.0  9.294\n",
       "3     2620803119     HRITIK KESHARWANI     IT        TRAVCLAN     10.0  9.308\n",
       "4     1220802719          MOHAK SHARMA  CSE A        TRAVCLAN     10.0  9.285"
      ]
     },
     "execution_count": 82,
     "metadata": {},
     "output_type": "execute_result"
    }
   ],
   "source": [
    "df.head()"
   ]
  },
  {
   "cell_type": "code",
   "execution_count": 83,
   "id": "3f49464f-aa2d-4e97-b1c2-3965a746940b",
   "metadata": {},
   "outputs": [
    {
     "name": "stdout",
     "output_type": "stream",
     "text": [
      "<class 'pandas.core.frame.DataFrame'>\n",
      "RangeIndex: 218 entries, 0 to 217\n",
      "Data columns (total 6 columns):\n",
      " #   Column         Non-Null Count  Dtype  \n",
      "---  ------         --------------  -----  \n",
      " 0   Enrolment No.  218 non-null    int64  \n",
      " 1   Name           218 non-null    object \n",
      " 2   Stream         218 non-null    object \n",
      " 3   COMPANY        218 non-null    object \n",
      " 4   PACKAGE        218 non-null    float64\n",
      " 5   CGPA           216 non-null    float64\n",
      "dtypes: float64(2), int64(1), object(3)\n",
      "memory usage: 10.3+ KB\n",
      "None\n"
     ]
    }
   ],
   "source": [
    "print(df.info())"
   ]
  },
  {
   "cell_type": "code",
   "execution_count": 84,
   "id": "cb9c1a29-efa3-415b-8a82-97370480b452",
   "metadata": {},
   "outputs": [],
   "source": [
    "df1=df.drop(columns=[\"CGPA\"])"
   ]
  },
  {
   "cell_type": "code",
   "execution_count": 85,
   "id": "d891422c-7bb5-40bd-ada8-c35f681a832d",
   "metadata": {},
   "outputs": [
    {
     "name": "stdout",
     "output_type": "stream",
     "text": [
      "<class 'pandas.core.frame.DataFrame'>\n",
      "RangeIndex: 218 entries, 0 to 217\n",
      "Data columns (total 5 columns):\n",
      " #   Column         Non-Null Count  Dtype  \n",
      "---  ------         --------------  -----  \n",
      " 0   Enrolment No.  218 non-null    int64  \n",
      " 1   Name           218 non-null    object \n",
      " 2   Stream         218 non-null    object \n",
      " 3   COMPANY        218 non-null    object \n",
      " 4   PACKAGE        218 non-null    float64\n",
      "dtypes: float64(1), int64(1), object(3)\n",
      "memory usage: 8.6+ KB\n"
     ]
    }
   ],
   "source": [
    "df1.info()"
   ]
  },
  {
   "cell_type": "code",
   "execution_count": 86,
   "id": "7f4e0790-4b4b-441f-97b3-af6073320bbc",
   "metadata": {},
   "outputs": [
    {
     "data": {
      "text/plain": [
       "Enrolment No.    0\n",
       "Name             0\n",
       "Stream           0\n",
       "COMPANY          0\n",
       "PACKAGE          0\n",
       "CGPA             2\n",
       "dtype: int64"
      ]
     },
     "execution_count": 86,
     "metadata": {},
     "output_type": "execute_result"
    }
   ],
   "source": [
    "df.isnull().sum()"
   ]
  },
  {
   "cell_type": "code",
   "execution_count": 87,
   "id": "99a7ca4f-5c07-4d25-8dbb-107080608b0f",
   "metadata": {},
   "outputs": [
    {
     "data": {
      "text/html": [
       "<div>\n",
       "<style scoped>\n",
       "    .dataframe tbody tr th:only-of-type {\n",
       "        vertical-align: middle;\n",
       "    }\n",
       "\n",
       "    .dataframe tbody tr th {\n",
       "        vertical-align: top;\n",
       "    }\n",
       "\n",
       "    .dataframe thead th {\n",
       "        text-align: right;\n",
       "    }\n",
       "</style>\n",
       "<table border=\"1\" class=\"dataframe\">\n",
       "  <thead>\n",
       "    <tr style=\"text-align: right;\">\n",
       "      <th></th>\n",
       "      <th>Enrolment No.</th>\n",
       "      <th>Name</th>\n",
       "      <th>Stream</th>\n",
       "      <th>COMPANY</th>\n",
       "      <th>PACKAGE</th>\n",
       "      <th>CGPA</th>\n",
       "    </tr>\n",
       "  </thead>\n",
       "  <tbody>\n",
       "  </tbody>\n",
       "</table>\n",
       "</div>"
      ],
      "text/plain": [
       "Empty DataFrame\n",
       "Columns: [Enrolment No., Name, Stream, COMPANY, PACKAGE, CGPA]\n",
       "Index: []"
      ]
     },
     "execution_count": 87,
     "metadata": {},
     "output_type": "execute_result"
    }
   ],
   "source": [
    "df[df[\"CGPA\"]==\"NaN\"]"
   ]
  },
  {
   "cell_type": "code",
   "execution_count": 88,
   "id": "1436aa87-bb99-48b2-bbae-bc1ed1f6609c",
   "metadata": {},
   "outputs": [
    {
     "data": {
      "text/html": [
       "<div>\n",
       "<style scoped>\n",
       "    .dataframe tbody tr th:only-of-type {\n",
       "        vertical-align: middle;\n",
       "    }\n",
       "\n",
       "    .dataframe tbody tr th {\n",
       "        vertical-align: top;\n",
       "    }\n",
       "\n",
       "    .dataframe thead th {\n",
       "        text-align: right;\n",
       "    }\n",
       "</style>\n",
       "<table border=\"1\" class=\"dataframe\">\n",
       "  <thead>\n",
       "    <tr style=\"text-align: right;\">\n",
       "      <th></th>\n",
       "      <th>PACKAGE</th>\n",
       "      <th>CGPA</th>\n",
       "    </tr>\n",
       "  </thead>\n",
       "  <tbody>\n",
       "    <tr>\n",
       "      <th>count</th>\n",
       "      <td>218.000000</td>\n",
       "      <td>216.000000</td>\n",
       "    </tr>\n",
       "    <tr>\n",
       "      <th>mean</th>\n",
       "      <td>7.600505</td>\n",
       "      <td>8.956046</td>\n",
       "    </tr>\n",
       "    <tr>\n",
       "      <th>std</th>\n",
       "      <td>6.573707</td>\n",
       "      <td>0.406298</td>\n",
       "    </tr>\n",
       "    <tr>\n",
       "      <th>min</th>\n",
       "      <td>1.560000</td>\n",
       "      <td>6.528000</td>\n",
       "    </tr>\n",
       "    <tr>\n",
       "      <th>25%</th>\n",
       "      <td>4.500000</td>\n",
       "      <td>8.714500</td>\n",
       "    </tr>\n",
       "    <tr>\n",
       "      <th>50%</th>\n",
       "      <td>5.000000</td>\n",
       "      <td>8.963000</td>\n",
       "    </tr>\n",
       "    <tr>\n",
       "      <th>75%</th>\n",
       "      <td>9.750000</td>\n",
       "      <td>9.253000</td>\n",
       "    </tr>\n",
       "    <tr>\n",
       "      <th>max</th>\n",
       "      <td>50.000000</td>\n",
       "      <td>9.715000</td>\n",
       "    </tr>\n",
       "  </tbody>\n",
       "</table>\n",
       "</div>"
      ],
      "text/plain": [
       "          PACKAGE        CGPA\n",
       "count  218.000000  216.000000\n",
       "mean     7.600505    8.956046\n",
       "std      6.573707    0.406298\n",
       "min      1.560000    6.528000\n",
       "25%      4.500000    8.714500\n",
       "50%      5.000000    8.963000\n",
       "75%      9.750000    9.253000\n",
       "max     50.000000    9.715000"
      ]
     },
     "execution_count": 88,
     "metadata": {},
     "output_type": "execute_result"
    }
   ],
   "source": [
    "df[[\"PACKAGE\",\"CGPA\"]].describe()"
   ]
  },
  {
   "cell_type": "code",
   "execution_count": 89,
   "id": "470a6ad3-67ce-4ff9-b951-d9daab171d25",
   "metadata": {},
   "outputs": [
    {
     "data": {
      "text/plain": [
       "array(['CSE B', 'CSE A', 'IT', 'ECE A', 'ECE B', 'EEE', 'ECE -A'],\n",
       "      dtype=object)"
      ]
     },
     "execution_count": 89,
     "metadata": {},
     "output_type": "execute_result"
    }
   ],
   "source": [
    "df[\"Stream\"].unique()"
   ]
  },
  {
   "cell_type": "code",
   "execution_count": 90,
   "id": "08fcbda2-cae7-4794-9d02-7d5f88bf123b",
   "metadata": {},
   "outputs": [],
   "source": [
    "df[\"Stream\"]=df[\"Stream\"].replace({\"CSE A\":\"CSE\",\"CSE B\":\"CSE\",\"ECE -A\":\"ECE\",\"ECE B\":\"ECE\",'ECE A':'ECE'})"
   ]
  },
  {
   "cell_type": "code",
   "execution_count": 91,
   "id": "56eedd57-dfff-4c8c-a7a6-1c776939e545",
   "metadata": {},
   "outputs": [
    {
     "data": {
      "text/plain": [
       "array(['CSE', 'IT', 'ECE', 'EEE'], dtype=object)"
      ]
     },
     "execution_count": 91,
     "metadata": {},
     "output_type": "execute_result"
    }
   ],
   "source": [
    "df[\"Stream\"].unique()"
   ]
  },
  {
   "cell_type": "code",
   "execution_count": 92,
   "id": "df54967e-f985-479d-b4b3-958085f4a201",
   "metadata": {},
   "outputs": [
    {
     "data": {
      "text/plain": [
       "Stream\n",
       "CSE    84\n",
       "ECE    76\n",
       "EEE     6\n",
       "IT     52\n",
       "Name: PACKAGE, dtype: int64"
      ]
     },
     "execution_count": 92,
     "metadata": {},
     "output_type": "execute_result"
    }
   ],
   "source": [
    "df.groupby([\"Stream\"])[\"PACKAGE\"].count()"
   ]
  },
  {
   "cell_type": "code",
   "execution_count": 93,
   "id": "0eb8a367-1f7d-41d1-8516-d6b0f13c342a",
   "metadata": {},
   "outputs": [],
   "source": [
    "df2=pd.read_excel(\"Total Students 2019-23.xlsx\")"
   ]
  },
  {
   "cell_type": "code",
   "execution_count": 94,
   "id": "4ab31841-80fe-4b8c-8886-d75f22e3061e",
   "metadata": {},
   "outputs": [
    {
     "name": "stdout",
     "output_type": "stream",
     "text": [
      "[61.76470588235294, 72.22222222222221, 53.52112676056338, 18.75]\n"
     ]
    }
   ],
   "source": [
    "dep=[\"CSE\",\"IT\",\"ECE\",\"EEE\"]\n",
    "placed_count=[84,52,76,6]\n",
    "total_st=[136,72,142,32]\n",
    "placed_perct=[(x / y)*100 for x, y in zip(placed_count, total_st)]\n",
    "print(placed_perct)"
   ]
  },
  {
   "cell_type": "code",
   "execution_count": 95,
   "id": "5f8a62f2-717b-45b7-ad6e-6eaf73d5fdc1",
   "metadata": {},
   "outputs": [
    {
     "data": {
      "text/plain": [
       "<BarContainer object of 4 artists>"
      ]
     },
     "execution_count": 95,
     "metadata": {},
     "output_type": "execute_result"
    },
    {
     "data": {
      "image/png": "[encoded data removed]",
      "text/plain": [
       "<Figure size 640x480 with 1 Axes>"
      ]
     },
     "metadata": {},
     "output_type": "display_data"
    }
   ],
   "source": [
    "plt.bar(dep,placed_perct)"
   ]
  },
  {
   "cell_type": "code",
   "execution_count": 96,
   "id": "36e20f7f-4a22-48da-99f7-efca20451b2a",
   "metadata": {},
   "outputs": [
    {
     "name": "stdout",
     "output_type": "stream",
     "text": [
      "Placement Dataset\n"
     ]
    }
   ],
   "source": [
    "print(\"Placement Dataset\")"
   ]
  },
  {
   "cell_type": "code",
   "execution_count": 97,
   "id": "22e58b71-a8d1-4ba2-b4eb-68fce9d91cd2",
   "metadata": {},
   "outputs": [],
   "source": [
    "df2=pd.read_excel(\"Total Students 2019-23.xlsx\")"
   ]
  },
  {
   "cell_type": "code",
   "execution_count": 98,
   "id": "1a9c3409-2325-499a-8941-a87fefc8e2e8",
   "metadata": {},
   "outputs": [
    {
     "data": {
      "text/plain": [
       "Text(0.5, 0, 'PACKAGE')"
      ]
     },
     "execution_count": 98,
     "metadata": {},
     "output_type": "execute_result"
    },
    {
     "data": {
      "image/png": "[encoded data removed]",
      "text/plain": [
       "<Figure size 900x900 with 1 Axes>"
      ]
     },
     "metadata": {},
     "output_type": "display_data"
    }
   ],
   "source": [
    "plt.figure(figsize=(9,9))\n",
    "box_color = \"#ff914d\"\n",
    "sn.boxplot(df[\"PACKAGE\"],color=box_color)\n",
    "plt.xlabel(\"PACKAGE\")"
   ]
  },
  {
   "cell_type": "code",
   "execution_count": 99,
   "id": "a3f6ceb7-769b-4c57-89a4-b643c41c9f10",
   "metadata": {},
   "outputs": [
    {
     "data": {
      "text/plain": [
       "Text(0.5, 0, 'CGPA')"
      ]
     },
     "execution_count": 99,
     "metadata": {},
     "output_type": "execute_result"
    },
    {
     "data": {
      "image/png": "[encoded data removed]",
      "text/plain": [
       "<Figure size 900x900 with 1 Axes>"
      ]
     },
     "metadata": {},
     "output_type": "display_data"
    }
   ],
   "source": [
    "plt.figure(figsize=(9,9))\n",
    "box_color = \"#ff914d\"\n",
    "sn.boxplot(df[\"CGPA\"],color=box_color)\n",
    "plt.xlabel(\"CGPA\")"
   ]
  },
  {
   "cell_type": "code",
   "execution_count": 100,
   "id": "aec20cb7-1f89-415c-bcfa-b2af45791ab2",
   "metadata": {},
   "outputs": [
    {
     "data": {
      "text/plain": [
       "Text(0.5, 0, 'CGPA')"
      ]
     },
     "execution_count": 100,
     "metadata": {},
     "output_type": "execute_result"
    },
    {
     "data": {
      "image/png": "[encoded data removed]",
      "text/plain": [
       "<Figure size 900x900 with 1 Axes>"
      ]
     },
     "metadata": {},
     "output_type": "display_data"
    }
   ],
   "source": [
    "plt.figure(figsize=(9,9))\n",
    "box_color = \"#ff914d\"\n",
    "sn.boxplot(df2[\"Cgpa\"],color=box_color)\n",
    "plt.xlabel(\"CGPA\")"
   ]
  },
  {
   "cell_type": "code",
   "execution_count": 101,
   "id": "ce95eca9-4980-4de3-86d2-92f19fe5ebc5",
   "metadata": {},
   "outputs": [
    {
     "data": {
      "text/plain": [
       "(29, 3)"
      ]
     },
     "execution_count": 101,
     "metadata": {},
     "output_type": "execute_result"
    }
   ],
   "source": [
    "df2[df2[\"Cgpa\"]<8.0].shape"
   ]
  },
  {
   "cell_type": "code",
   "execution_count": 102,
   "id": "421772de-6a58-4c7e-a735-1dfeb7e6a01b",
   "metadata": {},
   "outputs": [
    {
     "data": {
      "text/plain": [
       "(382, 3)"
      ]
     },
     "execution_count": 102,
     "metadata": {},
     "output_type": "execute_result"
    }
   ],
   "source": [
    "df2.shape"
   ]
  },
  {
   "cell_type": "code",
   "execution_count": 103,
   "id": "06736e23-900d-41cb-9ca8-e4463540cb36",
   "metadata": {},
   "outputs": [
    {
     "data": {
      "text/html": [
       "<div>\n",
       "<style scoped>\n",
       "    .dataframe tbody tr th:only-of-type {\n",
       "        vertical-align: middle;\n",
       "    }\n",
       "\n",
       "    .dataframe tbody tr th {\n",
       "        vertical-align: top;\n",
       "    }\n",
       "\n",
       "    .dataframe thead th {\n",
       "        text-align: right;\n",
       "    }\n",
       "</style>\n",
       "<table border=\"1\" class=\"dataframe\">\n",
       "  <thead>\n",
       "    <tr style=\"text-align: right;\">\n",
       "      <th></th>\n",
       "      <th>Enrolment No.</th>\n",
       "      <th>Name</th>\n",
       "      <th>Stream</th>\n",
       "      <th>COMPANY</th>\n",
       "      <th>PACKAGE</th>\n",
       "      <th>CGPA</th>\n",
       "    </tr>\n",
       "  </thead>\n",
       "  <tbody>\n",
       "    <tr>\n",
       "      <th>194</th>\n",
       "      <td>320804919</td>\n",
       "      <td>MOHAMMAD HASAN USMA</td>\n",
       "      <td>EEE</td>\n",
       "      <td>ANY TIME INVEST</td>\n",
       "      <td>3.0</td>\n",
       "      <td>7.836</td>\n",
       "    </tr>\n",
       "    <tr>\n",
       "      <th>196</th>\n",
       "      <td>9720802719</td>\n",
       "      <td>NIDHI MEHRA</td>\n",
       "      <td>CSE</td>\n",
       "      <td>MOBIKWIK</td>\n",
       "      <td>3.0</td>\n",
       "      <td>7.967</td>\n",
       "    </tr>\n",
       "    <tr>\n",
       "      <th>216</th>\n",
       "      <td>7520802819</td>\n",
       "      <td>UJJWAL SINGH RAWAT</td>\n",
       "      <td>ECE</td>\n",
       "      <td>XICO INDIA MANAGEMENT</td>\n",
       "      <td>1.8</td>\n",
       "      <td>6.528</td>\n",
       "    </tr>\n",
       "  </tbody>\n",
       "</table>\n",
       "</div>"
      ],
      "text/plain": [
       "     Enrolment No.                 Name Stream                COMPANY  \\\n",
       "194      320804919  MOHAMMAD HASAN USMA    EEE        ANY TIME INVEST   \n",
       "196     9720802719          NIDHI MEHRA    CSE               MOBIKWIK   \n",
       "216     7520802819   UJJWAL SINGH RAWAT    ECE  XICO INDIA MANAGEMENT   \n",
       "\n",
       "     PACKAGE   CGPA  \n",
       "194      3.0  7.836  \n",
       "196      3.0  7.967  \n",
       "216      1.8  6.528  "
      ]
     },
     "execution_count": 103,
     "metadata": {},
     "output_type": "execute_result"
    }
   ],
   "source": [
    "df[df[\"CGPA\"]<8]"
   ]
  },
  {
   "cell_type": "code",
   "execution_count": 104,
   "id": "06e2489b-6dde-476f-9f78-6153dc5a98be",
   "metadata": {},
   "outputs": [
    {
     "data": {
      "text/plain": [
       "(218, 6)"
      ]
     },
     "execution_count": 104,
     "metadata": {},
     "output_type": "execute_result"
    }
   ],
   "source": [
    "df.shape"
   ]
  },
  {
   "cell_type": "code",
   "execution_count": 105,
   "id": "f7e86a66-2b85-4c7e-b72c-e04e699b52c9",
   "metadata": {},
   "outputs": [
    {
     "data": {
      "text/html": [
       "<div>\n",
       "<style scoped>\n",
       "    .dataframe tbody tr th:only-of-type {\n",
       "        vertical-align: middle;\n",
       "    }\n",
       "\n",
       "    .dataframe tbody tr th {\n",
       "        vertical-align: top;\n",
       "    }\n",
       "\n",
       "    .dataframe thead th {\n",
       "        text-align: right;\n",
       "    }\n",
       "</style>\n",
       "<table border=\"1\" class=\"dataframe\">\n",
       "  <thead>\n",
       "    <tr style=\"text-align: right;\">\n",
       "      <th></th>\n",
       "      <th>Enrolment No.</th>\n",
       "      <th>Name</th>\n",
       "      <th>Stream</th>\n",
       "      <th>COMPANY</th>\n",
       "      <th>PACKAGE</th>\n",
       "      <th>CGPA</th>\n",
       "    </tr>\n",
       "  </thead>\n",
       "  <tbody>\n",
       "    <tr>\n",
       "      <th>216</th>\n",
       "      <td>7520802819</td>\n",
       "      <td>UJJWAL SINGH RAWAT</td>\n",
       "      <td>ECE</td>\n",
       "      <td>XICO INDIA MANAGEMENT</td>\n",
       "      <td>1.8</td>\n",
       "      <td>6.528</td>\n",
       "    </tr>\n",
       "  </tbody>\n",
       "</table>\n",
       "</div>"
      ],
      "text/plain": [
       "     Enrolment No.                Name Stream                COMPANY  PACKAGE  \\\n",
       "216     7520802819  UJJWAL SINGH RAWAT    ECE  XICO INDIA MANAGEMENT      1.8   \n",
       "\n",
       "      CGPA  \n",
       "216  6.528  "
      ]
     },
     "execution_count": 105,
     "metadata": {},
     "output_type": "execute_result"
    }
   ],
   "source": [
    "df[df[\"CGPA\"]<6.7]"
   ]
  },
  {
   "cell_type": "code",
   "execution_count": 106,
   "id": "7e0a83ed-8099-452d-8f00-c044b73bb6c8",
   "metadata": {},
   "outputs": [
    {
     "data": {
      "text/html": [
       "<div>\n",
       "<style scoped>\n",
       "    .dataframe tbody tr th:only-of-type {\n",
       "        vertical-align: middle;\n",
       "    }\n",
       "\n",
       "    .dataframe tbody tr th {\n",
       "        vertical-align: top;\n",
       "    }\n",
       "\n",
       "    .dataframe thead th {\n",
       "        text-align: right;\n",
       "    }\n",
       "</style>\n",
       "<table border=\"1\" class=\"dataframe\">\n",
       "  <thead>\n",
       "    <tr style=\"text-align: right;\">\n",
       "      <th></th>\n",
       "      <th>Enrolment No.</th>\n",
       "      <th>Name</th>\n",
       "      <th>Stream</th>\n",
       "      <th>COMPANY</th>\n",
       "      <th>PACKAGE</th>\n",
       "      <th>CGPA</th>\n",
       "    </tr>\n",
       "  </thead>\n",
       "  <tbody>\n",
       "    <tr>\n",
       "      <th>110</th>\n",
       "      <td>9420802719</td>\n",
       "      <td>SUMANT SHARMA</td>\n",
       "      <td>CSE</td>\n",
       "      <td>ADPUSHUP SOFTWARE INDIA</td>\n",
       "      <td>10.0</td>\n",
       "      <td>9.715</td>\n",
       "    </tr>\n",
       "  </tbody>\n",
       "</table>\n",
       "</div>"
      ],
      "text/plain": [
       "     Enrolment No.           Name Stream                  COMPANY  PACKAGE  \\\n",
       "110     9420802719  SUMANT SHARMA    CSE  ADPUSHUP SOFTWARE INDIA     10.0   \n",
       "\n",
       "      CGPA  \n",
       "110  9.715  "
      ]
     },
     "execution_count": 106,
     "metadata": {},
     "output_type": "execute_result"
    }
   ],
   "source": [
    "df[df[\"CGPA\"]>9.7]"
   ]
  },
  {
   "cell_type": "code",
   "execution_count": 107,
   "id": "97bc7333-84ec-4966-98c4-83d6f6904a72",
   "metadata": {},
   "outputs": [
    {
     "data": {
      "text/plain": [
       "8.0021"
      ]
     },
     "execution_count": 107,
     "metadata": {},
     "output_type": "execute_result"
    }
   ],
   "source": [
    "df[\"CGPA\"].quantile(0.01)"
   ]
  },
  {
   "cell_type": "code",
   "execution_count": 108,
   "id": "a3bf600b-d823-4e53-b884-1bf4e88b690e",
   "metadata": {},
   "outputs": [
    {
     "data": {
      "text/plain": [
       "15.119999999999981"
      ]
     },
     "execution_count": 108,
     "metadata": {},
     "output_type": "execute_result"
    }
   ],
   "source": [
    "df[\"PACKAGE\"].quantile(0.95)"
   ]
  },
  {
   "cell_type": "code",
   "execution_count": 109,
   "id": "bfffe05f-0996-4256-8f71-4fea96b300e9",
   "metadata": {},
   "outputs": [
    {
     "data": {
      "text/plain": [
       "1.902"
      ]
     },
     "execution_count": 109,
     "metadata": {},
     "output_type": "execute_result"
    }
   ],
   "source": [
    "df[\"PACKAGE\"].quantile(0.01)"
   ]
  },
  {
   "cell_type": "code",
   "execution_count": 110,
   "id": "30f8218e-e6f1-41c9-8927-c2219f0b972a",
   "metadata": {},
   "outputs": [
    {
     "data": {
      "text/plain": [
       "(41, 6)"
      ]
     },
     "execution_count": 110,
     "metadata": {},
     "output_type": "execute_result"
    }
   ],
   "source": [
    "df[df[\"PACKAGE\"]>10].shape"
   ]
  },
  {
   "cell_type": "code",
   "execution_count": 111,
   "id": "422b0eda-9ff1-4dab-8674-92c1786d2fe5",
   "metadata": {},
   "outputs": [
    {
     "data": {
      "text/plain": [
       "(218, 6)"
      ]
     },
     "execution_count": 111,
     "metadata": {},
     "output_type": "execute_result"
    }
   ],
   "source": [
    "df.shape"
   ]
  },
  {
   "cell_type": "code",
   "execution_count": 112,
   "id": "6946dc39-a33f-49d1-9fb3-a6b73eeb6b63",
   "metadata": {},
   "outputs": [],
   "source": [
    "df3=df[df[\"PACKAGE\"]>10]"
   ]
  },
  {
   "cell_type": "code",
   "execution_count": 113,
   "id": "023d490a-a4ec-430d-97e1-a53c2cb3ac44",
   "metadata": {},
   "outputs": [
    {
     "data": {
      "text/plain": [
       "9.085170731707317"
      ]
     },
     "execution_count": 113,
     "metadata": {},
     "output_type": "execute_result"
    }
   ],
   "source": [
    "df3[\"CGPA\"].mean()"
   ]
  },
  {
   "cell_type": "code",
   "execution_count": 114,
   "id": "6ebb56aa-37eb-4140-a392-eda23118a7a9",
   "metadata": {},
   "outputs": [],
   "source": [
    "df4=df[df[\"Stream\"]==\"IT\"]"
   ]
  },
  {
   "cell_type": "code",
   "execution_count": 115,
   "id": "3788e5d7-dbad-47af-8d68-f1f74a6188e2",
   "metadata": {},
   "outputs": [
    {
     "data": {
      "text/plain": [
       "<Axes: ylabel='PACKAGE'>"
      ]
     },
     "execution_count": 115,
     "metadata": {},
     "output_type": "execute_result"
    },
    {
     "data": {
      "image/png": "[encoded data removed]",
      "text/plain": [
       "<Figure size 640x480 with 1 Axes>"
      ]
     },
     "metadata": {},
     "output_type": "display_data"
    }
   ],
   "source": [
    "sn.boxplot(df4[\"PACKAGE\"])"
   ]
  },
  {
   "cell_type": "code",
   "execution_count": 116,
   "id": "95fb21be-0a2a-418a-b445-9fc831f6e544",
   "metadata": {},
   "outputs": [
    {
     "data": {
      "text/html": [
       "<div>\n",
       "<style scoped>\n",
       "    .dataframe tbody tr th:only-of-type {\n",
       "        vertical-align: middle;\n",
       "    }\n",
       "\n",
       "    .dataframe tbody tr th {\n",
       "        vertical-align: top;\n",
       "    }\n",
       "\n",
       "    .dataframe thead th {\n",
       "        text-align: right;\n",
       "    }\n",
       "</style>\n",
       "<table border=\"1\" class=\"dataframe\">\n",
       "  <thead>\n",
       "    <tr style=\"text-align: right;\">\n",
       "      <th></th>\n",
       "      <th>Enrolment No.</th>\n",
       "      <th>PACKAGE</th>\n",
       "      <th>CGPA</th>\n",
       "    </tr>\n",
       "  </thead>\n",
       "  <tbody>\n",
       "    <tr>\n",
       "      <th>count</th>\n",
       "      <td>5.200000e+01</td>\n",
       "      <td>52.000000</td>\n",
       "      <td>52.000000</td>\n",
       "    </tr>\n",
       "    <tr>\n",
       "      <th>mean</th>\n",
       "      <td>8.188111e+09</td>\n",
       "      <td>8.178269</td>\n",
       "      <td>9.033808</td>\n",
       "    </tr>\n",
       "    <tr>\n",
       "      <th>std</th>\n",
       "      <td>1.122666e+10</td>\n",
       "      <td>5.632634</td>\n",
       "      <td>0.350098</td>\n",
       "    </tr>\n",
       "    <tr>\n",
       "      <th>min</th>\n",
       "      <td>1.208077e+08</td>\n",
       "      <td>3.360000</td>\n",
       "      <td>8.364000</td>\n",
       "    </tr>\n",
       "    <tr>\n",
       "      <th>25%</th>\n",
       "      <td>1.295803e+09</td>\n",
       "      <td>4.500000</td>\n",
       "      <td>8.791750</td>\n",
       "    </tr>\n",
       "    <tr>\n",
       "      <th>50%</th>\n",
       "      <td>2.920803e+09</td>\n",
       "      <td>6.500000</td>\n",
       "      <td>9.024500</td>\n",
       "    </tr>\n",
       "    <tr>\n",
       "      <th>75%</th>\n",
       "      <td>8.595803e+09</td>\n",
       "      <td>10.000000</td>\n",
       "      <td>9.311500</td>\n",
       "    </tr>\n",
       "    <tr>\n",
       "      <th>max</th>\n",
       "      <td>3.562080e+10</td>\n",
       "      <td>28.360000</td>\n",
       "      <td>9.696000</td>\n",
       "    </tr>\n",
       "  </tbody>\n",
       "</table>\n",
       "</div>"
      ],
      "text/plain": [
       "       Enrolment No.    PACKAGE       CGPA\n",
       "count   5.200000e+01  52.000000  52.000000\n",
       "mean    8.188111e+09   8.178269   9.033808\n",
       "std     1.122666e+10   5.632634   0.350098\n",
       "min     1.208077e+08   3.360000   8.364000\n",
       "25%     1.295803e+09   4.500000   8.791750\n",
       "50%     2.920803e+09   6.500000   9.024500\n",
       "75%     8.595803e+09  10.000000   9.311500\n",
       "max     3.562080e+10  28.360000   9.696000"
      ]
     },
     "execution_count": 116,
     "metadata": {},
     "output_type": "execute_result"
    }
   ],
   "source": [
    "df4.describe()"
   ]
  },
  {
   "cell_type": "code",
   "execution_count": 117,
   "id": "ba0b39a0-ed87-4cc7-b3a1-73a1ff72dfad",
   "metadata": {},
   "outputs": [
    {
     "data": {
      "text/plain": [
       "<Axes: xlabel='PACKAGE', ylabel='Count'>"
      ]
     },
     "execution_count": 117,
     "metadata": {},
     "output_type": "execute_result"
    },
    {
     "data": {
      "image/png": "[encoded data removed]",
      "text/plain": [
       "<Figure size 640x480 with 1 Axes>"
      ]
     },
     "metadata": {},
     "output_type": "display_data"
    }
   ],
   "source": [
    "sn.histplot(df[\"PACKAGE\"],kde=True,color=box_color,bins=20,binwidth=3)"
   ]
  },
  {
   "cell_type": "code",
   "execution_count": 118,
   "id": "1a0e99da-b8bf-4d3f-8548-f9dac4b82eb8",
   "metadata": {},
   "outputs": [
    {
     "data": {
      "text/plain": [
       "0.5137614678899083"
      ]
     },
     "execution_count": 118,
     "metadata": {},
     "output_type": "execute_result"
    }
   ],
   "source": [
    "df[(df[\"PACKAGE\"] >= 3) & (df[\"PACKAGE\"] <= 5)].shape[0]/218"
   ]
  },
  {
   "cell_type": "code",
   "execution_count": 119,
   "id": "efbc60a4-afe7-43cc-b72c-dbd2455f8574",
   "metadata": {},
   "outputs": [
    {
     "data": {
      "text/plain": [
       "(218, 6)"
      ]
     },
     "execution_count": 119,
     "metadata": {},
     "output_type": "execute_result"
    }
   ],
   "source": [
    "df.shape"
   ]
  },
  {
   "cell_type": "code",
   "execution_count": 120,
   "id": "ccf052f3-5a37-4449-9afc-cdf3a36ee596",
   "metadata": {},
   "outputs": [
    {
     "data": {
      "text/plain": [
       "54.12844036697248"
      ]
     },
     "execution_count": 120,
     "metadata": {},
     "output_type": "execute_result"
    }
   ],
   "source": [
    "(df[(df[\"PACKAGE\"] >= 4) & (df[\"PACKAGE\"] <= 6)].shape[0]/218)*100"
   ]
  },
  {
   "cell_type": "code",
   "execution_count": 121,
   "id": "ea7fe5a6-0fd1-48d4-bf86-2ef99ffc485e",
   "metadata": {},
   "outputs": [
    {
     "data": {
      "text/plain": [
       "3.859610927284603"
      ]
     },
     "execution_count": 121,
     "metadata": {},
     "output_type": "execute_result"
    }
   ],
   "source": [
    "df[\"PACKAGE\"].skew()"
   ]
  },
  {
   "cell_type": "code",
   "execution_count": 122,
   "id": "f6cfd637-9b57-448c-9ae6-18c91c4c25b2",
   "metadata": {},
   "outputs": [
    {
     "data": {
      "text/plain": [
       "(218, 6)"
      ]
     },
     "execution_count": 122,
     "metadata": {},
     "output_type": "execute_result"
    }
   ],
   "source": [
    "df.shape"
   ]
  },
  {
   "cell_type": "code",
   "execution_count": 123,
   "id": "bb9f6747-16dc-49b8-98cb-1b6cb4b43114",
   "metadata": {},
   "outputs": [
    {
     "data": {
      "text/plain": [
       "(218,)"
      ]
     },
     "execution_count": 123,
     "metadata": {},
     "output_type": "execute_result"
    }
   ],
   "source": [
    "df[\"CGPA\"].shape"
   ]
  },
  {
   "cell_type": "code",
   "execution_count": 127,
   "id": "67627e15-15c8-433d-b138-2d5261a04340",
   "metadata": {},
   "outputs": [],
   "source": [
    "df5=df[df[\"CGPA\"]>7.5]\n"
   ]
  },
  {
   "cell_type": "code",
   "execution_count": 132,
   "id": "b02155dd-f4ce-46d1-82b0-c2bd20dc9eb9",
   "metadata": {},
   "outputs": [
    {
     "data": {
      "text/plain": [
       "0.20792569035899885"
      ]
     },
     "execution_count": 132,
     "metadata": {},
     "output_type": "execute_result"
    }
   ],
   "source": [
    "df[\"CGPA\"].corr(df[\"PACKAGE\"])"
   ]
  },
  {
   "cell_type": "code",
   "execution_count": 134,
   "id": "6295d64b-243d-4385-8029-9f9d12c95606",
   "metadata": {},
   "outputs": [],
   "source": [
    "df6=df5[df5[\"PACKAGE\"]<18]"
   ]
  },
  {
   "cell_type": "code",
   "execution_count": 135,
   "id": "8b306e8f-fa3f-4765-a7e9-2e2bb2bf80b7",
   "metadata": {},
   "outputs": [
    {
     "data": {
      "text/plain": [
       "0.20840625356319392"
      ]
     },
     "execution_count": 135,
     "metadata": {},
     "output_type": "execute_result"
    }
   ],
   "source": [
    "df6[\"CGPA\"].corr(df6[\"PACKAGE\"])"
   ]
  },
  {
   "cell_type": "code",
   "execution_count": 141,
   "id": "02f43f6e-4df1-4ba9-a100-254f4e0032a7",
   "metadata": {},
   "outputs": [
    {
     "data": {
      "text/plain": [
       "<seaborn.axisgrid.JointGrid at 0x1b007c88830>"
      ]
     },
     "execution_count": 141,
     "metadata": {},
     "output_type": "execute_result"
    },
    {
     "data": {
      "image/png": "[encoded data removed]",
      "text/plain": [
       "<Figure size 800x800 with 3 Axes>"
      ]
     },
     "metadata": {},
     "output_type": "display_data"
    }
   ],
   "source": [
    "sn.jointplot(x='CGPA', y='PACKAGE', data=df, kind='reg',color=box_color,height=8)"
   ]
  },
  {
   "cell_type": "code",
   "execution_count": 143,
   "id": "1e7d6c09-4772-4c8d-9040-2cde0f7f632c",
   "metadata": {},
   "outputs": [],
   "source": [
    "import statsmodels.api as sm"
   ]
  },
  {
   "cell_type": "code",
   "execution_count": 144,
   "id": "1edba50d-49d3-46e0-a023-389f98a5f17a",
   "metadata": {},
   "outputs": [],
   "source": [
    "X = df6[\"CGPA\"]\n",
    "Y = df6[\"PACKAGE\"]"
   ]
  },
  {
   "cell_type": "code",
   "execution_count": 145,
   "id": "990886f3-d86f-4739-b460-554b7d435db5",
   "metadata": {},
   "outputs": [],
   "source": [
    "X=sm.add_constant(X)"
   ]
  },
  {
   "cell_type": "code",
   "execution_count": 146,
   "id": "396e9bd4-9960-46ba-8557-87ff8ad7231f",
   "metadata": {},
   "outputs": [],
   "source": [
    "model = sm.OLS(Y, X).fit()"
   ]
  },
  {
   "cell_type": "code",
   "execution_count": 155,
   "id": "f1916419-2449-466d-9990-8f821e89ac22",
   "metadata": {},
   "outputs": [],
   "source": [
    "mod_df=model.summary()"
   ]
  },
  {
   "cell_type": "code",
   "execution_count": 152,
   "id": "ee60c123-cb43-48d7-9f55-d2421c67e920",
   "metadata": {},
   "outputs": [],
   "source": [
    "x=df[\"CGPA\"]\n",
    "y=df[\"PACKAGE\"]"
   ]
  },
  {
   "cell_type": "code",
   "execution_count": 153,
   "id": "6aa7c41b-9502-4884-8251-fd9fc202f2ec",
   "metadata": {},
   "outputs": [],
   "source": [
    "x=sm.add_constant(x)"
   ]
  },
  {
   "cell_type": "code",
   "execution_count": 156,
   "id": "93941121-bb33-4fbd-b6fa-fc1ae9c8cc0f",
   "metadata": {},
   "outputs": [
    {
     "ename": "AttributeError",
     "evalue": "'Summary' object has no attribute 'to_csv'",
     "output_type": "error",
     "traceback": [
      "\u001b[1;31m---------------------------------------------------------------------------\u001b[0m",
      "\u001b[1;31mAttributeError\u001b[0m                            Traceback (most recent call last)",
      "Cell \u001b[1;32mIn[156], line 1\u001b[0m\n\u001b[1;32m----> 1\u001b[0m \u001b[43mmod_df\u001b[49m\u001b[38;5;241;43m.\u001b[39;49m\u001b[43mto_csv\u001b[49m(\u001b[38;5;124m\"\u001b[39m\u001b[38;5;124mMatric.csv\u001b[39m\u001b[38;5;124m\"\u001b[39m)\n",
      "\u001b[1;31mAttributeError\u001b[0m: 'Summary' object has no attribute 'to_csv'"
     ]
    }
   ],
   "source": [
    "mod_df.to_csv(\"Matric.csv\")"
   ]
  },
  {
   "cell_type": "code",
   "execution_count": 157,
   "id": "a4dc2aea-2edf-4309-900d-9981d40ace69",
   "metadata": {},
   "outputs": [
    {
     "data": {
      "text/html": [
       "<table class=\"simpletable\">\n",
       "<caption>OLS Regression Results</caption>\n",
       "<tr>\n",
       "  <th>Dep. Variable:</th>         <td>PACKAGE</td>     <th>  R-squared:         </th> <td>   0.043</td>\n",
       "</tr>\n",
       "<tr>\n",
       "  <th>Model:</th>                   <td>OLS</td>       <th>  Adj. R-squared:    </th> <td>   0.039</td>\n",
       "</tr>\n",
       "<tr>\n",
       "  <th>Method:</th>             <td>Least Squares</td>  <th>  F-statistic:       </th> <td>   9.263</td>\n",
       "</tr>\n",
       "<tr>\n",
       "  <th>Date:</th>             <td>Wed, 25 Dec 2024</td> <th>  Prob (F-statistic):</th>  <td>0.00265</td>\n",
       "</tr>\n",
       "<tr>\n",
       "  <th>Time:</th>                 <td>00:51:04</td>     <th>  Log-Likelihood:    </th> <td> -541.08</td>\n",
       "</tr>\n",
       "<tr>\n",
       "  <th>No. Observations:</th>      <td>   206</td>      <th>  AIC:               </th> <td>   1086.</td>\n",
       "</tr>\n",
       "<tr>\n",
       "  <th>Df Residuals:</th>          <td>   204</td>      <th>  BIC:               </th> <td>   1093.</td>\n",
       "</tr>\n",
       "<tr>\n",
       "  <th>Df Model:</th>              <td>     1</td>      <th>                     </th>     <td> </td>   \n",
       "</tr>\n",
       "<tr>\n",
       "  <th>Covariance Type:</th>      <td>nonrobust</td>    <th>                     </th>     <td> </td>   \n",
       "</tr>\n",
       "</table>\n",
       "<table class=\"simpletable\">\n",
       "<tr>\n",
       "    <td></td>       <th>coef</th>     <th>std err</th>      <th>t</th>      <th>P>|t|</th>  <th>[0.025</th>    <th>0.975]</th>  \n",
       "</tr>\n",
       "<tr>\n",
       "  <th>const</th> <td>  -10.5269</td> <td>    5.628</td> <td>   -1.871</td> <td> 0.063</td> <td>  -21.623</td> <td>    0.569</td>\n",
       "</tr>\n",
       "<tr>\n",
       "  <th>CGPA</th>  <td>    1.9105</td> <td>    0.628</td> <td>    3.043</td> <td> 0.003</td> <td>    0.673</td> <td>    3.148</td>\n",
       "</tr>\n",
       "</table>\n",
       "<table class=\"simpletable\">\n",
       "<tr>\n",
       "  <th>Omnibus:</th>       <td>38.061</td> <th>  Durbin-Watson:     </th> <td>   1.009</td>\n",
       "</tr>\n",
       "<tr>\n",
       "  <th>Prob(Omnibus):</th> <td> 0.000</td> <th>  Jarque-Bera (JB):  </th> <td>  53.279</td>\n",
       "</tr>\n",
       "<tr>\n",
       "  <th>Skew:</th>          <td> 1.220</td> <th>  Prob(JB):          </th> <td>2.69e-12</td>\n",
       "</tr>\n",
       "<tr>\n",
       "  <th>Kurtosis:</th>      <td> 3.501</td> <th>  Cond. No.          </th> <td>    218.</td>\n",
       "</tr>\n",
       "</table><br/><br/>Notes:<br/>[1] Standard Errors assume that the covariance matrix of the errors is correctly specified."
      ],
      "text/latex": [
       "\\begin{center}\n",
       "\\begin{tabular}{lclc}\n",
       "\\toprule\n",
       "\\textbf{Dep. Variable:}    &     PACKAGE      & \\textbf{  R-squared:         } &     0.043   \\\\\n",
       "\\textbf{Model:}            &       OLS        & \\textbf{  Adj. R-squared:    } &     0.039   \\\\\n",
       "\\textbf{Method:}           &  Least Squares   & \\textbf{  F-statistic:       } &     9.263   \\\\\n",
       "\\textbf{Date:}             & Wed, 25 Dec 2024 & \\textbf{  Prob (F-statistic):} &  0.00265    \\\\\n",
       "\\textbf{Time:}             &     00:51:04     & \\textbf{  Log-Likelihood:    } &   -541.08   \\\\\n",
       "\\textbf{No. Observations:} &         206      & \\textbf{  AIC:               } &     1086.   \\\\\n",
       "\\textbf{Df Residuals:}     &         204      & \\textbf{  BIC:               } &     1093.   \\\\\n",
       "\\textbf{Df Model:}         &           1      & \\textbf{                     } &             \\\\\n",
       "\\textbf{Covariance Type:}  &    nonrobust     & \\textbf{                     } &             \\\\\n",
       "\\bottomrule\n",
       "\\end{tabular}\n",
       "\\begin{tabular}{lcccccc}\n",
       "               & \\textbf{coef} & \\textbf{std err} & \\textbf{t} & \\textbf{P$> |$t$|$} & \\textbf{[0.025} & \\textbf{0.975]}  \\\\\n",
       "\\midrule\n",
       "\\textbf{const} &     -10.5269  &        5.628     &    -1.871  &         0.063        &      -21.623    &        0.569     \\\\\n",
       "\\textbf{CGPA}  &       1.9105  &        0.628     &     3.043  &         0.003        &        0.673    &        3.148     \\\\\n",
       "\\bottomrule\n",
       "\\end{tabular}\n",
       "\\begin{tabular}{lclc}\n",
       "\\textbf{Omnibus:}       & 38.061 & \\textbf{  Durbin-Watson:     } &    1.009  \\\\\n",
       "\\textbf{Prob(Omnibus):} &  0.000 & \\textbf{  Jarque-Bera (JB):  } &   53.279  \\\\\n",
       "\\textbf{Skew:}          &  1.220 & \\textbf{  Prob(JB):          } & 2.69e-12  \\\\\n",
       "\\textbf{Kurtosis:}      &  3.501 & \\textbf{  Cond. No.          } &     218.  \\\\\n",
       "\\bottomrule\n",
       "\\end{tabular}\n",
       "%\\caption{OLS Regression Results}\n",
       "\\end{center}\n",
       "\n",
       "Notes: \\newline\n",
       " [1] Standard Errors assume that the covariance matrix of the errors is correctly specified."
      ],
      "text/plain": [
       "<class 'statsmodels.iolib.summary.Summary'>\n",
       "\"\"\"\n",
       "                            OLS Regression Results                            \n",
       "==============================================================================\n",
       "Dep. Variable:                PACKAGE   R-squared:                       0.043\n",
       "Model:                            OLS   Adj. R-squared:                  0.039\n",
       "Method:                 Least Squares   F-statistic:                     9.263\n",
       "Date:                Wed, 25 Dec 2024   Prob (F-statistic):            0.00265\n",
       "Time:                        00:51:04   Log-Likelihood:                -541.08\n",
       "No. Observations:                 206   AIC:                             1086.\n",
       "Df Residuals:                     204   BIC:                             1093.\n",
       "Df Model:                           1                                         \n",
       "Covariance Type:            nonrobust                                         \n",
       "==============================================================================\n",
       "                 coef    std err          t      P>|t|      [0.025      0.975]\n",
       "------------------------------------------------------------------------------\n",
       "const        -10.5269      5.628     -1.871      0.063     -21.623       0.569\n",
       "CGPA           1.9105      0.628      3.043      0.003       0.673       3.148\n",
       "==============================================================================\n",
       "Omnibus:                       38.061   Durbin-Watson:                   1.009\n",
       "Prob(Omnibus):                  0.000   Jarque-Bera (JB):               53.279\n",
       "Skew:                           1.220   Prob(JB):                     2.69e-12\n",
       "Kurtosis:                       3.501   Cond. No.                         218.\n",
       "==============================================================================\n",
       "\n",
       "Notes:\n",
       "[1] Standard Errors assume that the covariance matrix of the errors is correctly specified.\n",
       "\"\"\""
      ]
     },
     "execution_count": 157,
     "metadata": {},
     "output_type": "execute_result"
    }
   ],
   "source": [
    "mod_df"
   ]
  },
  {
   "cell_type": "code",
   "execution_count": null,
   "id": "632baf22-9015-4cd1-a686-a2533d7a1f64",
   "metadata": {},
   "outputs": [],
   "source": []
  }
 ],
 "metadata": {
  "kernelspec": {
   "display_name": "Python 3 (ipykernel)",
   "language": "python",
   "name": "python3"
  },
  "language_info": {
   "codemirror_mode": {
    "name": "ipython",
    "version": 3
   },
   "file_extension": ".py",
   "mimetype": "text/x-python",
   "name": "python",
   "nbconvert_exporter": "python",
   "pygments_lexer": "ipython3",
   "version": "3.12.1"
  }
 },
 "nbformat": 4,
 "nbformat_minor": 5
}
