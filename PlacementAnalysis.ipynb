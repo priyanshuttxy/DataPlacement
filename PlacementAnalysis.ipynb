{
 "cells": [
  {
   "cell_type": "code",
   "execution_count": 1,
   "id": "1f8b5749-717a-4506-a422-f133246394c5",
   "metadata": {},
   "outputs": [],
   "source": [
    "import pandas as pd\n",
    "import numpy as np\n",
    "import matplotlib.pyplot as plt\n",
    "import seaborn as sn"
   ]
  },
  {
   "cell_type": "code",
   "execution_count": 2,
   "id": "442213ce-263d-45a7-bf11-fd2cf90f19bd",
   "metadata": {},
   "outputs": [],
   "source": [
    "df=pd.read_excel(\"Final Placement Report 2019-23.xlsx\")"
   ]
  },
  {
   "cell_type": "code",
   "execution_count": 3,
   "id": "a9008fb3-11f4-4f82-a038-6b9b6e1b471d",
   "metadata": {},
   "outputs": [
    {
     "data": {
      "text/html": [
       "<div>\n",
       "<style scoped>\n",
       "    .dataframe tbody tr th:only-of-type {\n",
       "        vertical-align: middle;\n",
       "    }\n",
       "\n",
       "    .dataframe tbody tr th {\n",
       "        vertical-align: top;\n",
       "    }\n",
       "\n",
       "    .dataframe thead th {\n",
       "        text-align: right;\n",
       "    }\n",
       "</style>\n",
       "<table border=\"1\" class=\"dataframe\">\n",
       "  <thead>\n",
       "    <tr style=\"text-align: right;\">\n",
       "      <th></th>\n",
       "      <th>Enrolment No.</th>\n",
       "      <th>Name</th>\n",
       "      <th>Stream</th>\n",
       "      <th>COMPANY</th>\n",
       "      <th>PACKAGE</th>\n",
       "      <th>CGPA</th>\n",
       "    </tr>\n",
       "  </thead>\n",
       "  <tbody>\n",
       "    <tr>\n",
       "      <th>0</th>\n",
       "      <td>10020802719</td>\n",
       "      <td>GAURAV SINGH CHAUHAN</td>\n",
       "      <td>CSE B</td>\n",
       "      <td>TEJAS NETWORKS</td>\n",
       "      <td>10.0</td>\n",
       "      <td>8.780</td>\n",
       "    </tr>\n",
       "    <tr>\n",
       "      <th>1</th>\n",
       "      <td>4420802719</td>\n",
       "      <td>JANVI GUPTA</td>\n",
       "      <td>CSE A</td>\n",
       "      <td>TEJAS NETWORKS</td>\n",
       "      <td>10.0</td>\n",
       "      <td>9.243</td>\n",
       "    </tr>\n",
       "    <tr>\n",
       "      <th>2</th>\n",
       "      <td>6720802719</td>\n",
       "      <td>NIKHIL DUSEJA</td>\n",
       "      <td>CSE B</td>\n",
       "      <td>TEJAS NETWORKS</td>\n",
       "      <td>10.0</td>\n",
       "      <td>9.294</td>\n",
       "    </tr>\n",
       "    <tr>\n",
       "      <th>3</th>\n",
       "      <td>2620803119</td>\n",
       "      <td>HRITIK KESHARWANI</td>\n",
       "      <td>IT</td>\n",
       "      <td>TRAVCLAN</td>\n",
       "      <td>10.0</td>\n",
       "      <td>9.308</td>\n",
       "    </tr>\n",
       "    <tr>\n",
       "      <th>4</th>\n",
       "      <td>1220802719</td>\n",
       "      <td>MOHAK SHARMA</td>\n",
       "      <td>CSE A</td>\n",
       "      <td>TRAVCLAN</td>\n",
       "      <td>10.0</td>\n",
       "      <td>9.285</td>\n",
       "    </tr>\n",
       "  </tbody>\n",
       "</table>\n",
       "</div>"
      ],
      "text/plain": [
       "   Enrolment No.                  Name Stream         COMPANY  PACKAGE   CGPA\n",
       "0    10020802719  GAURAV SINGH CHAUHAN  CSE B  TEJAS NETWORKS     10.0  8.780\n",
       "1     4420802719           JANVI GUPTA  CSE A  TEJAS NETWORKS     10.0  9.243\n",
       "2     6720802719         NIKHIL DUSEJA  CSE B  TEJAS NETWORKS     10.0  9.294\n",
       "3     2620803119     HRITIK KESHARWANI     IT        TRAVCLAN     10.0  9.308\n",
       "4     1220802719          MOHAK SHARMA  CSE A        TRAVCLAN     10.0  9.285"
      ]
     },
     "execution_count": 3,
     "metadata": {},
     "output_type": "execute_result"
    }
   ],
   "source": [
    "df.head()"
   ]
  },
  {
   "cell_type": "code",
   "execution_count": 4,
   "id": "2e380ab7-5e37-4f93-9183-4b3a7981687b",
   "metadata": {},
   "outputs": [
    {
     "name": "stdout",
     "output_type": "stream",
     "text": [
      "<class 'pandas.core.frame.DataFrame'>\n",
      "RangeIndex: 218 entries, 0 to 217\n",
      "Data columns (total 6 columns):\n",
      " #   Column         Non-Null Count  Dtype  \n",
      "---  ------         --------------  -----  \n",
      " 0   Enrolment No.  218 non-null    int64  \n",
      " 1   Name           218 non-null    object \n",
      " 2   Stream         218 non-null    object \n",
      " 3   COMPANY        218 non-null    object \n",
      " 4   PACKAGE        218 non-null    float64\n",
      " 5   CGPA           216 non-null    float64\n",
      "dtypes: float64(2), int64(1), object(3)\n",
      "memory usage: 10.3+ KB\n",
      "None\n"
     ]
    }
   ],
   "source": [
    "print(df.info())"
   ]
  },
  {
   "cell_type": "code",
   "execution_count": 5,
   "id": "00ce350d-02d4-4e3b-8c53-6b1e73270d94",
   "metadata": {},
   "outputs": [
    {
     "data": {
      "text/html": [
       "<div>\n",
       "<style scoped>\n",
       "    .dataframe tbody tr th:only-of-type {\n",
       "        vertical-align: middle;\n",
       "    }\n",
       "\n",
       "    .dataframe tbody tr th {\n",
       "        vertical-align: top;\n",
       "    }\n",
       "\n",
       "    .dataframe thead th {\n",
       "        text-align: right;\n",
       "    }\n",
       "</style>\n",
       "<table border=\"1\" class=\"dataframe\">\n",
       "  <thead>\n",
       "    <tr style=\"text-align: right;\">\n",
       "      <th></th>\n",
       "      <th>PACKAGE</th>\n",
       "      <th>CGPA</th>\n",
       "    </tr>\n",
       "  </thead>\n",
       "  <tbody>\n",
       "    <tr>\n",
       "      <th>count</th>\n",
       "      <td>218.000000</td>\n",
       "      <td>216.000000</td>\n",
       "    </tr>\n",
       "    <tr>\n",
       "      <th>mean</th>\n",
       "      <td>7.600505</td>\n",
       "      <td>8.956046</td>\n",
       "    </tr>\n",
       "    <tr>\n",
       "      <th>std</th>\n",
       "      <td>6.573707</td>\n",
       "      <td>0.406298</td>\n",
       "    </tr>\n",
       "    <tr>\n",
       "      <th>min</th>\n",
       "      <td>1.560000</td>\n",
       "      <td>6.528000</td>\n",
       "    </tr>\n",
       "    <tr>\n",
       "      <th>25%</th>\n",
       "      <td>4.500000</td>\n",
       "      <td>8.714500</td>\n",
       "    </tr>\n",
       "    <tr>\n",
       "      <th>50%</th>\n",
       "      <td>5.000000</td>\n",
       "      <td>8.963000</td>\n",
       "    </tr>\n",
       "    <tr>\n",
       "      <th>75%</th>\n",
       "      <td>9.750000</td>\n",
       "      <td>9.253000</td>\n",
       "    </tr>\n",
       "    <tr>\n",
       "      <th>max</th>\n",
       "      <td>50.000000</td>\n",
       "      <td>9.715000</td>\n",
       "    </tr>\n",
       "  </tbody>\n",
       "</table>\n",
       "</div>"
      ],
      "text/plain": [
       "          PACKAGE        CGPA\n",
       "count  218.000000  216.000000\n",
       "mean     7.600505    8.956046\n",
       "std      6.573707    0.406298\n",
       "min      1.560000    6.528000\n",
       "25%      4.500000    8.714500\n",
       "50%      5.000000    8.963000\n",
       "75%      9.750000    9.253000\n",
       "max     50.000000    9.715000"
      ]
     },
     "execution_count": 5,
     "metadata": {},
     "output_type": "execute_result"
    }
   ],
   "source": [
    "df[[\"PACKAGE\",\"CGPA\"]].describe()"
   ]
  },
  {
   "cell_type": "code",
   "execution_count": 6,
   "id": "4a9d12e7-e3fb-4f8f-9808-0646f56d0ecc",
   "metadata": {},
   "outputs": [
    {
     "data": {
      "text/plain": [
       "array(['CSE B', 'CSE A', 'IT', 'ECE A', 'ECE B', 'EEE', 'ECE -A'],\n",
       "      dtype=object)"
      ]
     },
     "execution_count": 6,
     "metadata": {},
     "output_type": "execute_result"
    }
   ],
   "source": [
    "df[\"Stream\"].unique()"
   ]
  },
  {
   "cell_type": "code",
   "execution_count": 7,
   "id": "c1abbb13-9e17-43b3-b0da-4fe73be1e734",
   "metadata": {},
   "outputs": [
    {
     "data": {
      "text/plain": [
       "5.0"
      ]
     },
     "execution_count": 7,
     "metadata": {},
     "output_type": "execute_result"
    }
   ],
   "source": [
    "df[\"PACKAGE\"].median()"
   ]
  },
  {
   "cell_type": "code",
   "execution_count": 8,
   "id": "127a97e0-8e4d-4f3d-9161-19cb55ac50c7",
   "metadata": {},
   "outputs": [
    {
     "data": {
      "text/plain": [
       "<Axes: ylabel='PACKAGE'>"
      ]
     },
     "execution_count": 8,
     "metadata": {},
     "output_type": "execute_result"
    },
    {
     "data": {
      "image/png": "[encoded data removed]",
      "text/plain": [
       "<Figure size 640x480 with 1 Axes>"
      ]
     },
     "metadata": {},
     "output_type": "display_data"
    }
   ],
   "source": [
    "sn.boxplot(df[\"PACKAGE\"])"
   ]
  },
  {
   "cell_type": "code",
   "execution_count": 9,
   "id": "1df2e5fd-9ba3-4648-a390-90d4116b28d3",
   "metadata": {},
   "outputs": [
    {
     "data": {
      "text/html": [
       "<div>\n",
       "<style scoped>\n",
       "    .dataframe tbody tr th:only-of-type {\n",
       "        vertical-align: middle;\n",
       "    }\n",
       "\n",
       "    .dataframe tbody tr th {\n",
       "        vertical-align: top;\n",
       "    }\n",
       "\n",
       "    .dataframe thead th {\n",
       "        text-align: right;\n",
       "    }\n",
       "</style>\n",
       "<table border=\"1\" class=\"dataframe\">\n",
       "  <thead>\n",
       "    <tr style=\"text-align: right;\">\n",
       "      <th></th>\n",
       "      <th>Enrolment No.</th>\n",
       "      <th>Name</th>\n",
       "      <th>Stream</th>\n",
       "      <th>COMPANY</th>\n",
       "      <th>PACKAGE</th>\n",
       "      <th>CGPA</th>\n",
       "    </tr>\n",
       "  </thead>\n",
       "  <tbody>\n",
       "    <tr>\n",
       "      <th>32</th>\n",
       "      <td>420807220</td>\n",
       "      <td>OBEROI</td>\n",
       "      <td>CSE A</td>\n",
       "      <td>ESTEL TECHNOLOGIES</td>\n",
       "      <td>1.56</td>\n",
       "      <td>9.425</td>\n",
       "    </tr>\n",
       "    <tr>\n",
       "      <th>197</th>\n",
       "      <td>35120807320</td>\n",
       "      <td>PRANAAM DHIMAN</td>\n",
       "      <td>ECE A</td>\n",
       "      <td>WTI CABS</td>\n",
       "      <td>1.80</td>\n",
       "      <td>8.969</td>\n",
       "    </tr>\n",
       "    <tr>\n",
       "      <th>216</th>\n",
       "      <td>7520802819</td>\n",
       "      <td>UJJWAL SINGH RAWAT</td>\n",
       "      <td>ECE B</td>\n",
       "      <td>XICO INDIA MANAGEMENT</td>\n",
       "      <td>1.80</td>\n",
       "      <td>6.528</td>\n",
       "    </tr>\n",
       "  </tbody>\n",
       "</table>\n",
       "</div>"
      ],
      "text/plain": [
       "     Enrolment No.                Name Stream                COMPANY  PACKAGE  \\\n",
       "32       420807220              OBEROI  CSE A     ESTEL TECHNOLOGIES     1.56   \n",
       "197    35120807320      PRANAAM DHIMAN  ECE A               WTI CABS     1.80   \n",
       "216     7520802819  UJJWAL SINGH RAWAT  ECE B  XICO INDIA MANAGEMENT     1.80   \n",
       "\n",
       "      CGPA  \n",
       "32   9.425  \n",
       "197  8.969  \n",
       "216  6.528  "
      ]
     },
     "execution_count": 9,
     "metadata": {},
     "output_type": "execute_result"
    }
   ],
   "source": [
    "df[df[\"PACKAGE\"]<2]"
   ]
  },
  {
   "cell_type": "code",
   "execution_count": 10,
   "id": "6e077580-14ce-4073-bd33-26bed6f3d833",
   "metadata": {},
   "outputs": [
    {
     "data": {
      "text/plain": [
       "Enrolment No.    0\n",
       "Name             0\n",
       "Stream           0\n",
       "COMPANY          0\n",
       "PACKAGE          0\n",
       "CGPA             2\n",
       "dtype: int64"
      ]
     },
     "execution_count": 10,
     "metadata": {},
     "output_type": "execute_result"
    }
   ],
   "source": [
    "df.isnull().sum()"
   ]
  },
  {
   "cell_type": "code",
   "execution_count": 11,
   "id": "d37746ce-cce9-47ac-98de-615de1290ca2",
   "metadata": {},
   "outputs": [],
   "source": [
    "df.dropna(inplace=True)"
   ]
  },
  {
   "cell_type": "code",
   "execution_count": 12,
   "id": "5baa09dc-b525-4143-a0c2-6d63eba884ea",
   "metadata": {},
   "outputs": [
    {
     "data": {
      "text/html": [
       "<div>\n",
       "<style scoped>\n",
       "    .dataframe tbody tr th:only-of-type {\n",
       "        vertical-align: middle;\n",
       "    }\n",
       "\n",
       "    .dataframe tbody tr th {\n",
       "        vertical-align: top;\n",
       "    }\n",
       "\n",
       "    .dataframe thead th {\n",
       "        text-align: right;\n",
       "    }\n",
       "</style>\n",
       "<table border=\"1\" class=\"dataframe\">\n",
       "  <thead>\n",
       "    <tr style=\"text-align: right;\">\n",
       "      <th></th>\n",
       "      <th>Enrolment No.</th>\n",
       "      <th>PACKAGE</th>\n",
       "      <th>CGPA</th>\n",
       "    </tr>\n",
       "  </thead>\n",
       "  <tbody>\n",
       "    <tr>\n",
       "      <th>count</th>\n",
       "      <td>2.160000e+02</td>\n",
       "      <td>216.000000</td>\n",
       "      <td>216.000000</td>\n",
       "    </tr>\n",
       "    <tr>\n",
       "      <th>mean</th>\n",
       "      <td>8.925896e+09</td>\n",
       "      <td>7.631528</td>\n",
       "      <td>8.956046</td>\n",
       "    </tr>\n",
       "    <tr>\n",
       "      <th>std</th>\n",
       "      <td>1.192297e+10</td>\n",
       "      <td>6.596184</td>\n",
       "      <td>0.406298</td>\n",
       "    </tr>\n",
       "    <tr>\n",
       "      <th>min</th>\n",
       "      <td>1.208072e+08</td>\n",
       "      <td>1.560000</td>\n",
       "      <td>6.528000</td>\n",
       "    </tr>\n",
       "    <tr>\n",
       "      <th>25%</th>\n",
       "      <td>1.795803e+09</td>\n",
       "      <td>4.500000</td>\n",
       "      <td>8.714500</td>\n",
       "    </tr>\n",
       "    <tr>\n",
       "      <th>50%</th>\n",
       "      <td>4.620803e+09</td>\n",
       "      <td>5.000000</td>\n",
       "      <td>8.963000</td>\n",
       "    </tr>\n",
       "    <tr>\n",
       "      <th>75%</th>\n",
       "      <td>8.845803e+09</td>\n",
       "      <td>10.000000</td>\n",
       "      <td>9.253000</td>\n",
       "    </tr>\n",
       "    <tr>\n",
       "      <th>max</th>\n",
       "      <td>7.512080e+10</td>\n",
       "      <td>50.000000</td>\n",
       "      <td>9.715000</td>\n",
       "    </tr>\n",
       "  </tbody>\n",
       "</table>\n",
       "</div>"
      ],
      "text/plain": [
       "       Enrolment No.     PACKAGE        CGPA\n",
       "count   2.160000e+02  216.000000  216.000000\n",
       "mean    8.925896e+09    7.631528    8.956046\n",
       "std     1.192297e+10    6.596184    0.406298\n",
       "min     1.208072e+08    1.560000    6.528000\n",
       "25%     1.795803e+09    4.500000    8.714500\n",
       "50%     4.620803e+09    5.000000    8.963000\n",
       "75%     8.845803e+09   10.000000    9.253000\n",
       "max     7.512080e+10   50.000000    9.715000"
      ]
     },
     "execution_count": 12,
     "metadata": {},
     "output_type": "execute_result"
    }
   ],
   "source": [
    "df.describe()"
   ]
  },
  {
   "cell_type": "code",
   "execution_count": 13,
   "id": "dd544acd-bcc6-4f88-9d43-57e65ead4c1b",
   "metadata": {},
   "outputs": [
    {
     "data": {
      "text/plain": [
       "54.0"
      ]
     },
     "execution_count": 13,
     "metadata": {},
     "output_type": "execute_result"
    }
   ],
   "source": [
    "216*0.25"
   ]
  },
  {
   "cell_type": "code",
   "execution_count": 14,
   "id": "ffcead5a-94b2-4b3c-b5b6-6601bf08cb7b",
   "metadata": {},
   "outputs": [
    {
     "data": {
      "text/html": [
       "<div>\n",
       "<style scoped>\n",
       "    .dataframe tbody tr th:only-of-type {\n",
       "        vertical-align: middle;\n",
       "    }\n",
       "\n",
       "    .dataframe tbody tr th {\n",
       "        vertical-align: top;\n",
       "    }\n",
       "\n",
       "    .dataframe thead th {\n",
       "        text-align: right;\n",
       "    }\n",
       "</style>\n",
       "<table border=\"1\" class=\"dataframe\">\n",
       "  <thead>\n",
       "    <tr style=\"text-align: right;\">\n",
       "      <th></th>\n",
       "      <th>Enrolment No.</th>\n",
       "      <th>PACKAGE</th>\n",
       "      <th>CGPA</th>\n",
       "    </tr>\n",
       "  </thead>\n",
       "  <tbody>\n",
       "    <tr>\n",
       "      <th>count</th>\n",
       "      <td>5.200000e+01</td>\n",
       "      <td>52.000000</td>\n",
       "      <td>52.000000</td>\n",
       "    </tr>\n",
       "    <tr>\n",
       "      <th>mean</th>\n",
       "      <td>8.188111e+09</td>\n",
       "      <td>8.178269</td>\n",
       "      <td>9.033808</td>\n",
       "    </tr>\n",
       "    <tr>\n",
       "      <th>std</th>\n",
       "      <td>1.122666e+10</td>\n",
       "      <td>5.632634</td>\n",
       "      <td>0.350098</td>\n",
       "    </tr>\n",
       "    <tr>\n",
       "      <th>min</th>\n",
       "      <td>1.208077e+08</td>\n",
       "      <td>3.360000</td>\n",
       "      <td>8.364000</td>\n",
       "    </tr>\n",
       "    <tr>\n",
       "      <th>25%</th>\n",
       "      <td>1.295803e+09</td>\n",
       "      <td>4.500000</td>\n",
       "      <td>8.791750</td>\n",
       "    </tr>\n",
       "    <tr>\n",
       "      <th>50%</th>\n",
       "      <td>2.920803e+09</td>\n",
       "      <td>6.500000</td>\n",
       "      <td>9.024500</td>\n",
       "    </tr>\n",
       "    <tr>\n",
       "      <th>75%</th>\n",
       "      <td>8.595803e+09</td>\n",
       "      <td>10.000000</td>\n",
       "      <td>9.311500</td>\n",
       "    </tr>\n",
       "    <tr>\n",
       "      <th>max</th>\n",
       "      <td>3.562080e+10</td>\n",
       "      <td>28.360000</td>\n",
       "      <td>9.696000</td>\n",
       "    </tr>\n",
       "  </tbody>\n",
       "</table>\n",
       "</div>"
      ],
      "text/plain": [
       "       Enrolment No.    PACKAGE       CGPA\n",
       "count   5.200000e+01  52.000000  52.000000\n",
       "mean    8.188111e+09   8.178269   9.033808\n",
       "std     1.122666e+10   5.632634   0.350098\n",
       "min     1.208077e+08   3.360000   8.364000\n",
       "25%     1.295803e+09   4.500000   8.791750\n",
       "50%     2.920803e+09   6.500000   9.024500\n",
       "75%     8.595803e+09  10.000000   9.311500\n",
       "max     3.562080e+10  28.360000   9.696000"
      ]
     },
     "execution_count": 14,
     "metadata": {},
     "output_type": "execute_result"
    }
   ],
   "source": [
    "df[df[\"Stream\"]==\"IT\"].describe()"
   ]
  },
  {
   "cell_type": "code",
   "execution_count": 15,
   "id": "bec93161-a4fb-4c18-a835-e87dd61ff99e",
   "metadata": {},
   "outputs": [],
   "source": [
    "df2=pd.read_excel(\"Total Students 2019-23.xlsx\")"
   ]
  },
  {
   "cell_type": "code",
   "execution_count": 16,
   "id": "c8a1086d-2cf0-42a7-8343-4de50516b6e5",
   "metadata": {},
   "outputs": [
    {
     "name": "stdout",
     "output_type": "stream",
     "text": [
      "Total Placement% in IT:  72.22222222222221\n"
     ]
    }
   ],
   "source": [
    "print(\"Total Placement% in IT: \",52/72*100)"
   ]
  },
  {
   "cell_type": "code",
   "execution_count": 17,
   "id": "6bbee65c-69f8-449b-acd5-a92c829fb3a0",
   "metadata": {},
   "outputs": [
    {
     "data": {
      "text/plain": [
       "137"
      ]
     },
     "execution_count": 17,
     "metadata": {},
     "output_type": "execute_result"
    }
   ],
   "source": [
    "137"
   ]
  },
  {
   "cell_type": "code",
   "execution_count": 18,
   "id": "b15137d9-16b1-46ed-b9a2-9d1d9953f8a5",
   "metadata": {},
   "outputs": [
    {
     "data": {
      "text/plain": [
       "array(['CSE B', 'CSE A', 'IT', 'ECE A', 'ECE B', 'EEE', 'ECE -A'],\n",
       "      dtype=object)"
      ]
     },
     "execution_count": 18,
     "metadata": {},
     "output_type": "execute_result"
    }
   ],
   "source": [
    "df[\"Stream\"].unique()"
   ]
  },
  {
   "cell_type": "code",
   "execution_count": 19,
   "id": "a1fbfa0e-b4ff-4e8e-958c-b1cbb4a516d9",
   "metadata": {},
   "outputs": [
    {
     "data": {
      "text/html": [
       "<div>\n",
       "<style scoped>\n",
       "    .dataframe tbody tr th:only-of-type {\n",
       "        vertical-align: middle;\n",
       "    }\n",
       "\n",
       "    .dataframe tbody tr th {\n",
       "        vertical-align: top;\n",
       "    }\n",
       "\n",
       "    .dataframe thead th {\n",
       "        text-align: right;\n",
       "    }\n",
       "</style>\n",
       "<table border=\"1\" class=\"dataframe\">\n",
       "  <thead>\n",
       "    <tr style=\"text-align: right;\">\n",
       "      <th></th>\n",
       "      <th>Enrolment No.</th>\n",
       "      <th>PACKAGE</th>\n",
       "      <th>CGPA</th>\n",
       "    </tr>\n",
       "  </thead>\n",
       "  <tbody>\n",
       "    <tr>\n",
       "      <th>count</th>\n",
       "      <td>8.400000e+01</td>\n",
       "      <td>84.000000</td>\n",
       "      <td>84.000000</td>\n",
       "    </tr>\n",
       "    <tr>\n",
       "      <th>mean</th>\n",
       "      <td>9.108898e+09</td>\n",
       "      <td>9.072619</td>\n",
       "      <td>9.043143</td>\n",
       "    </tr>\n",
       "    <tr>\n",
       "      <th>std</th>\n",
       "      <td>1.231771e+10</td>\n",
       "      <td>8.522433</td>\n",
       "      <td>0.374816</td>\n",
       "    </tr>\n",
       "    <tr>\n",
       "      <th>min</th>\n",
       "      <td>1.208072e+08</td>\n",
       "      <td>1.560000</td>\n",
       "      <td>7.967000</td>\n",
       "    </tr>\n",
       "    <tr>\n",
       "      <th>25%</th>\n",
       "      <td>2.195803e+09</td>\n",
       "      <td>4.500000</td>\n",
       "      <td>8.780000</td>\n",
       "    </tr>\n",
       "    <tr>\n",
       "      <th>50%</th>\n",
       "      <td>5.320803e+09</td>\n",
       "      <td>6.250000</td>\n",
       "      <td>9.066000</td>\n",
       "    </tr>\n",
       "    <tr>\n",
       "      <th>75%</th>\n",
       "      <td>8.845803e+09</td>\n",
       "      <td>10.000000</td>\n",
       "      <td>9.342250</td>\n",
       "    </tr>\n",
       "    <tr>\n",
       "      <th>max</th>\n",
       "      <td>7.512080e+10</td>\n",
       "      <td>50.000000</td>\n",
       "      <td>9.715000</td>\n",
       "    </tr>\n",
       "  </tbody>\n",
       "</table>\n",
       "</div>"
      ],
      "text/plain": [
       "       Enrolment No.    PACKAGE       CGPA\n",
       "count   8.400000e+01  84.000000  84.000000\n",
       "mean    9.108898e+09   9.072619   9.043143\n",
       "std     1.231771e+10   8.522433   0.374816\n",
       "min     1.208072e+08   1.560000   7.967000\n",
       "25%     2.195803e+09   4.500000   8.780000\n",
       "50%     5.320803e+09   6.250000   9.066000\n",
       "75%     8.845803e+09  10.000000   9.342250\n",
       "max     7.512080e+10  50.000000   9.715000"
      ]
     },
     "execution_count": 19,
     "metadata": {},
     "output_type": "execute_result"
    }
   ],
   "source": [
    "df[(df[\"Stream\"]==\"CSE A\") | (df[\"Stream\"]==\"CSE B\") | (df[\"Stream\"]==\"CSE C\")].describe()"
   ]
  },
  {
   "cell_type": "code",
   "execution_count": 20,
   "id": "998cb846-9dd3-4fa4-b173-e0592daaa4a1",
   "metadata": {},
   "outputs": [
    {
     "name": "stdout",
     "output_type": "stream",
     "text": [
      "Total Placement% in CSE:  61.31386861313869\n"
     ]
    }
   ],
   "source": [
    "print(\"Total Placement% in CSE: \",84/137*100)"
   ]
  },
  {
   "cell_type": "code",
   "execution_count": 21,
   "id": "bc68a669-4f62-433f-b141-da4e0bc463e3",
   "metadata": {},
   "outputs": [
    {
     "data": {
      "text/plain": [
       "<matplotlib.collections.PathCollection at 0x1d2bb478290>"
      ]
     },
     "execution_count": 21,
     "metadata": {},
     "output_type": "execute_result"
    },
    {
     "data": {
      "image/png": "[encoded data removed]",
      "text/plain": [
       "<Figure size 640x480 with 1 Axes>"
      ]
     },
     "metadata": {},
     "output_type": "display_data"
    }
   ],
   "source": [
    "plt.scatter(df[\"CGPA\"],df[\"PACKAGE\"])"
   ]
  },
  {
   "cell_type": "code",
   "execution_count": 22,
   "id": "94b3703f-efc4-44d0-9367-4fa2ff441bcc",
   "metadata": {},
   "outputs": [
    {
     "data": {
      "text/plain": [
       "<Axes: ylabel='CGPA'>"
      ]
     },
     "execution_count": 22,
     "metadata": {},
     "output_type": "execute_result"
    },
    {
     "data": {
      "image/png": "[encoded data removed]",
      "text/plain": [
       "<Figure size 640x480 with 1 Axes>"
      ]
     },
     "metadata": {},
     "output_type": "display_data"
    }
   ],
   "source": [
    "sn.boxplot(df[\"CGPA\"])"
   ]
  },
  {
   "cell_type": "code",
   "execution_count": 23,
   "id": "263a6cae-5e0b-4f71-8881-b16d7ba0c796",
   "metadata": {},
   "outputs": [],
   "source": [
    "df1=df[(df[\"CGPA\"]>8) & (df[\"PACKAGE\"]<30)]"
   ]
  },
  {
   "cell_type": "code",
   "execution_count": 24,
   "id": "c0ac51b2-20a0-40f8-9ecf-558a06c8d75b",
   "metadata": {},
   "outputs": [
    {
     "data": {
      "text/plain": [
       "<matplotlib.collections.PathCollection at 0x1d2e04c7bf0>"
      ]
     },
     "execution_count": 24,
     "metadata": {},
     "output_type": "execute_result"
    },
    {
     "data": {
      "image/png": "[encoded data removed]",
      "text/plain": [
       "<Figure size 640x480 with 1 Axes>"
      ]
     },
     "metadata": {},
     "output_type": "display_data"
    }
   ],
   "source": [
    "plt.scatter(df1[\"CGPA\"],df1[\"PACKAGE\"])"
   ]
  },
  {
   "cell_type": "code",
   "execution_count": 25,
   "id": "e800f6a6-7462-4566-ac2b-609ac21b0f0a",
   "metadata": {},
   "outputs": [
    {
     "name": "stdout",
     "output_type": "stream",
     "text": [
      "Total Correlation between CGPA & Package:  21.130029880341162 %\n"
     ]
    }
   ],
   "source": [
    "print(\"Total Correlation between CGPA & Package: \",(df1[\"PACKAGE\"].corr(df1[\"CGPA\"]))*100,\"%\")"
   ]
  },
  {
   "cell_type": "code",
   "execution_count": 26,
   "id": "edd0f1d4-3328-41d0-a725-299fe3f0cafd",
   "metadata": {},
   "outputs": [],
   "source": [
    "import statsmodels.api as sm"
   ]
  },
  {
   "cell_type": "code",
   "execution_count": 27,
   "id": "431218b3-0d44-4a4b-b285-970d4510ec13",
   "metadata": {},
   "outputs": [
    {
     "ename": "NameError",
     "evalue": "name 'x' is not defined",
     "output_type": "error",
     "traceback": [
      "\u001b[1;31m---------------------------------------------------------------------------\u001b[0m",
      "\u001b[1;31mNameError\u001b[0m                                 Traceback (most recent call last)",
      "Cell \u001b[1;32mIn[27], line 1\u001b[0m\n\u001b[1;32m----> 1\u001b[0m x1\u001b[38;5;241m=\u001b[39msm\u001b[38;5;241m.\u001b[39madd_constant(\u001b[43mx\u001b[49m)\n",
      "\u001b[1;31mNameError\u001b[0m: name 'x' is not defined"
     ]
    }
   ],
   "source": [
    "x1=sm.add_constant(x)"
   ]
  },
  {
   "cell_type": "code",
   "execution_count": null,
   "id": "402b5cf8-2ae2-447d-a8cc-687999421356",
   "metadata": {},
   "outputs": [],
   "source": [
    "x=df1[[\"CGPA\"]]"
   ]
  },
  {
   "cell_type": "code",
   "execution_count": null,
   "id": "e46ce7d7-31d4-4842-a28a-ff0cbbe79156",
   "metadata": {},
   "outputs": [],
   "source": [
    "y=df1[\"PACKAGE\"]"
   ]
  },
  {
   "cell_type": "code",
   "execution_count": null,
   "id": "26f74366-42fb-4b12-ac6f-2f07fe23eabc",
   "metadata": {},
   "outputs": [],
   "source": [
    "model=sm.OLS(y,x1).fit()"
   ]
  },
  {
   "cell_type": "code",
   "execution_count": null,
   "id": "0e5d9e6e-5c36-4d15-bba3-7c61ab12469f",
   "metadata": {},
   "outputs": [],
   "source": [
    "print(model.summary())"
   ]
  },
  {
   "cell_type": "code",
   "execution_count": null,
   "id": "132957ee-1a7a-45cb-8f1e-a3f4f2635360",
   "metadata": {},
   "outputs": [],
   "source": [
    "from sklearn.linear_model import LinearRegression"
   ]
  },
  {
   "cell_type": "code",
   "execution_count": null,
   "id": "81797cc8-d1b6-4a41-b79a-67744ced13d5",
   "metadata": {},
   "outputs": [],
   "source": [
    "lr=LinearRegression()"
   ]
  },
  {
   "cell_type": "code",
   "execution_count": null,
   "id": "36e4d0a7-ec6c-456f-86f7-75e7c9c9e86f",
   "metadata": {},
   "outputs": [],
   "source": [
    "lr.fit(x,y)"
   ]
  },
  {
   "cell_type": "code",
   "execution_count": null,
   "id": "651735c7-1da0-4e0c-9e3c-ec4f1f3df84f",
   "metadata": {},
   "outputs": [],
   "source": [
    "print(lr.predict([[8.9]]))"
   ]
  },
  {
   "cell_type": "code",
   "execution_count": null,
   "id": "8a094bed-d6cb-449b-9675-62cc0f49e0f7",
   "metadata": {},
   "outputs": [],
   "source": [
    "df3=df[df[\"PACKAGE\"]>=10]"
   ]
  },
  {
   "cell_type": "code",
   "execution_count": null,
   "id": "d74beed6-662d-4445-9460-16d5aa7fe125",
   "metadata": {},
   "outputs": [],
   "source": [
    "df3.sort_values(by=\"PACKAGE\",ascending=False)"
   ]
  },
  {
   "cell_type": "code",
   "execution_count": null,
   "id": "f9cb0669-ff24-4fff-b6b1-8c6b38e01a1f",
   "metadata": {},
   "outputs": [],
   "source": [
    "df4=df3.sort_values(by=\"PACKAGE\",ascending=False)"
   ]
  },
  {
   "cell_type": "code",
   "execution_count": null,
   "id": "8eac144b-8157-477a-849b-5124dfc4c0be",
   "metadata": {},
   "outputs": [],
   "source": [
    "df4[\"Name\"].unique()"
   ]
  },
  {
   "cell_type": "markdown",
   "id": "882c2a06-414b-4397-8640-bda8163794da",
   "metadata": {},
   "source": [
    "After Analysis almost 30-40% of students go for the data role againts the Devlopment role"
   ]
  },
  {
   "cell_type": "code",
   "execution_count": null,
   "id": "f2aa3bb5-ff74-4cc9-8017-8af0b4d26f0b",
   "metadata": {},
   "outputs": [],
   "source": []
  }
 ],
 "metadata": {
  "kernelspec": {
   "display_name": "Python 3 (ipykernel)",
   "language": "python",
   "name": "python3"
  },
  "language_info": {
   "codemirror_mode": {
    "name": "ipython",
    "version": 3
   },
   "file_extension": ".py",
   "mimetype": "text/x-python",
   "name": "python",
   "nbconvert_exporter": "python",
   "pygments_lexer": "ipython3",
   "version": "3.12.1"
  }
 },
 "nbformat": 4,
 "nbformat_minor": 5
}
