{
 "cells": [
  {
   "cell_type": "code",
   "execution_count": 102,
   "id": "8fb28f15-6337-4560-86f8-0dd5777886b0",
   "metadata": {},
   "outputs": [],
   "source": [
    "import pandas as pd\n",
    "import numpy as np\n",
    "import matplotlib.pyplot as plt\n",
    "import seaborn as sn"
   ]
  },
  {
   "cell_type": "code",
   "execution_count": 103,
   "id": "8d1de8e9-8108-4e1b-a966-ffeb7b22605c",
   "metadata": {},
   "outputs": [],
   "source": [
    "df=pd.read_excel(\"Final Placement Report 2019-23.xlsx\")"
   ]
  },
  {
   "cell_type": "code",
   "execution_count": 104,
   "id": "a09f9277-f468-4f36-a151-57a23b684b44",
   "metadata": {},
   "outputs": [
    {
     "data": {
      "text/html": [
       "<div>\n",
       "<style scoped>\n",
       "    .dataframe tbody tr th:only-of-type {\n",
       "        vertical-align: middle;\n",
       "    }\n",
       "\n",
       "    .dataframe tbody tr th {\n",
       "        vertical-align: top;\n",
       "    }\n",
       "\n",
       "    .dataframe thead th {\n",
       "        text-align: right;\n",
       "    }\n",
       "</style>\n",
       "<table border=\"1\" class=\"dataframe\">\n",
       "  <thead>\n",
       "    <tr style=\"text-align: right;\">\n",
       "      <th></th>\n",
       "      <th>Enrolment No.</th>\n",
       "      <th>Name</th>\n",
       "      <th>Stream</th>\n",
       "      <th>COMPANY</th>\n",
       "      <th>PACKAGE</th>\n",
       "      <th>CGPA</th>\n",
       "    </tr>\n",
       "  </thead>\n",
       "  <tbody>\n",
       "    <tr>\n",
       "      <th>0</th>\n",
       "      <td>10020802719</td>\n",
       "      <td>GAURAV SINGH CHAUHAN</td>\n",
       "      <td>CSE B</td>\n",
       "      <td>TEJAS NETWORKS</td>\n",
       "      <td>10.0</td>\n",
       "      <td>8.780</td>\n",
       "    </tr>\n",
       "    <tr>\n",
       "      <th>1</th>\n",
       "      <td>4420802719</td>\n",
       "      <td>JANVI GUPTA</td>\n",
       "      <td>CSE A</td>\n",
       "      <td>TEJAS NETWORKS</td>\n",
       "      <td>10.0</td>\n",
       "      <td>9.243</td>\n",
       "    </tr>\n",
       "    <tr>\n",
       "      <th>2</th>\n",
       "      <td>6720802719</td>\n",
       "      <td>NIKHIL DUSEJA</td>\n",
       "      <td>CSE B</td>\n",
       "      <td>TEJAS NETWORKS</td>\n",
       "      <td>10.0</td>\n",
       "      <td>9.294</td>\n",
       "    </tr>\n",
       "    <tr>\n",
       "      <th>3</th>\n",
       "      <td>2620803119</td>\n",
       "      <td>HRITIK KESHARWANI</td>\n",
       "      <td>IT</td>\n",
       "      <td>TRAVCLAN</td>\n",
       "      <td>10.0</td>\n",
       "      <td>9.308</td>\n",
       "    </tr>\n",
       "    <tr>\n",
       "      <th>4</th>\n",
       "      <td>1220802719</td>\n",
       "      <td>MOHAK SHARMA</td>\n",
       "      <td>CSE A</td>\n",
       "      <td>TRAVCLAN</td>\n",
       "      <td>10.0</td>\n",
       "      <td>9.285</td>\n",
       "    </tr>\n",
       "  </tbody>\n",
       "</table>\n",
       "</div>"
      ],
      "text/plain": [
       "   Enrolment No.                  Name Stream         COMPANY  PACKAGE   CGPA\n",
       "0    10020802719  GAURAV SINGH CHAUHAN  CSE B  TEJAS NETWORKS     10.0  8.780\n",
       "1     4420802719           JANVI GUPTA  CSE A  TEJAS NETWORKS     10.0  9.243\n",
       "2     6720802719         NIKHIL DUSEJA  CSE B  TEJAS NETWORKS     10.0  9.294\n",
       "3     2620803119     HRITIK KESHARWANI     IT        TRAVCLAN     10.0  9.308\n",
       "4     1220802719          MOHAK SHARMA  CSE A        TRAVCLAN     10.0  9.285"
      ]
     },
     "execution_count": 104,
     "metadata": {},
     "output_type": "execute_result"
    }
   ],
   "source": [
    "df.head()"
   ]
  },
  {
   "cell_type": "code",
   "execution_count": 105,
   "id": "3ec72cbe-6d3c-4b60-9825-49240a338c20",
   "metadata": {},
   "outputs": [
    {
     "name": "stdout",
     "output_type": "stream",
     "text": [
      "<class 'pandas.core.frame.DataFrame'>\n",
      "RangeIndex: 218 entries, 0 to 217\n",
      "Data columns (total 6 columns):\n",
      " #   Column         Non-Null Count  Dtype  \n",
      "---  ------         --------------  -----  \n",
      " 0   Enrolment No.  218 non-null    int64  \n",
      " 1   Name           218 non-null    object \n",
      " 2   Stream         218 non-null    object \n",
      " 3   COMPANY        218 non-null    object \n",
      " 4   PACKAGE        218 non-null    float64\n",
      " 5   CGPA           216 non-null    float64\n",
      "dtypes: float64(2), int64(1), object(3)\n",
      "memory usage: 10.3+ KB\n",
      "None\n"
     ]
    }
   ],
   "source": [
    "print(df.info())"
   ]
  },
  {
   "cell_type": "code",
   "execution_count": 106,
   "id": "eade9c00-28aa-4224-b52c-98be581d3b79",
   "metadata": {},
   "outputs": [],
   "source": [
    "df1=df.drop(columns=[\"CGPA\"])"
   ]
  },
  {
   "cell_type": "code",
   "execution_count": 107,
   "id": "36b05360-5033-4203-96d4-06a3de114f4a",
   "metadata": {},
   "outputs": [
    {
     "name": "stdout",
     "output_type": "stream",
     "text": [
      "<class 'pandas.core.frame.DataFrame'>\n",
      "RangeIndex: 218 entries, 0 to 217\n",
      "Data columns (total 5 columns):\n",
      " #   Column         Non-Null Count  Dtype  \n",
      "---  ------         --------------  -----  \n",
      " 0   Enrolment No.  218 non-null    int64  \n",
      " 1   Name           218 non-null    object \n",
      " 2   Stream         218 non-null    object \n",
      " 3   COMPANY        218 non-null    object \n",
      " 4   PACKAGE        218 non-null    float64\n",
      "dtypes: float64(1), int64(1), object(3)\n",
      "memory usage: 8.6+ KB\n"
     ]
    }
   ],
   "source": [
    "df1.info()"
   ]
  },
  {
   "cell_type": "code",
   "execution_count": 108,
   "id": "61bdfbdb-441a-4e44-aa46-3950369c1114",
   "metadata": {},
   "outputs": [
    {
     "data": {
      "text/plain": [
       "Enrolment No.    0\n",
       "Name             0\n",
       "Stream           0\n",
       "COMPANY          0\n",
       "PACKAGE          0\n",
       "CGPA             2\n",
       "dtype: int64"
      ]
     },
     "execution_count": 108,
     "metadata": {},
     "output_type": "execute_result"
    }
   ],
   "source": [
    "df.isnull().sum()"
   ]
  },
  {
   "cell_type": "code",
   "execution_count": 109,
   "id": "2b50220b-d7da-437f-956a-54407cfaa283",
   "metadata": {},
   "outputs": [
    {
     "data": {
      "text/html": [
       "<div>\n",
       "<style scoped>\n",
       "    .dataframe tbody tr th:only-of-type {\n",
       "        vertical-align: middle;\n",
       "    }\n",
       "\n",
       "    .dataframe tbody tr th {\n",
       "        vertical-align: top;\n",
       "    }\n",
       "\n",
       "    .dataframe thead th {\n",
       "        text-align: right;\n",
       "    }\n",
       "</style>\n",
       "<table border=\"1\" class=\"dataframe\">\n",
       "  <thead>\n",
       "    <tr style=\"text-align: right;\">\n",
       "      <th></th>\n",
       "      <th>Enrolment No.</th>\n",
       "      <th>Name</th>\n",
       "      <th>Stream</th>\n",
       "      <th>COMPANY</th>\n",
       "      <th>PACKAGE</th>\n",
       "      <th>CGPA</th>\n",
       "    </tr>\n",
       "  </thead>\n",
       "  <tbody>\n",
       "  </tbody>\n",
       "</table>\n",
       "</div>"
      ],
      "text/plain": [
       "Empty DataFrame\n",
       "Columns: [Enrolment No., Name, Stream, COMPANY, PACKAGE, CGPA]\n",
       "Index: []"
      ]
     },
     "execution_count": 109,
     "metadata": {},
     "output_type": "execute_result"
    }
   ],
   "source": [
    "df[df[\"CGPA\"]==\"NaN\"]"
   ]
  },
  {
   "cell_type": "code",
   "execution_count": 110,
   "id": "fe93d24d-55cb-4cbd-a248-3fb33fd01c2d",
   "metadata": {},
   "outputs": [
    {
     "data": {
      "text/html": [
       "<div>\n",
       "<style scoped>\n",
       "    .dataframe tbody tr th:only-of-type {\n",
       "        vertical-align: middle;\n",
       "    }\n",
       "\n",
       "    .dataframe tbody tr th {\n",
       "        vertical-align: top;\n",
       "    }\n",
       "\n",
       "    .dataframe thead th {\n",
       "        text-align: right;\n",
       "    }\n",
       "</style>\n",
       "<table border=\"1\" class=\"dataframe\">\n",
       "  <thead>\n",
       "    <tr style=\"text-align: right;\">\n",
       "      <th></th>\n",
       "      <th>PACKAGE</th>\n",
       "      <th>CGPA</th>\n",
       "    </tr>\n",
       "  </thead>\n",
       "  <tbody>\n",
       "    <tr>\n",
       "      <th>count</th>\n",
       "      <td>218.000000</td>\n",
       "      <td>216.000000</td>\n",
       "    </tr>\n",
       "    <tr>\n",
       "      <th>mean</th>\n",
       "      <td>7.600505</td>\n",
       "      <td>8.956046</td>\n",
       "    </tr>\n",
       "    <tr>\n",
       "      <th>std</th>\n",
       "      <td>6.573707</td>\n",
       "      <td>0.406298</td>\n",
       "    </tr>\n",
       "    <tr>\n",
       "      <th>min</th>\n",
       "      <td>1.560000</td>\n",
       "      <td>6.528000</td>\n",
       "    </tr>\n",
       "    <tr>\n",
       "      <th>25%</th>\n",
       "      <td>4.500000</td>\n",
       "      <td>8.714500</td>\n",
       "    </tr>\n",
       "    <tr>\n",
       "      <th>50%</th>\n",
       "      <td>5.000000</td>\n",
       "      <td>8.963000</td>\n",
       "    </tr>\n",
       "    <tr>\n",
       "      <th>75%</th>\n",
       "      <td>9.750000</td>\n",
       "      <td>9.253000</td>\n",
       "    </tr>\n",
       "    <tr>\n",
       "      <th>max</th>\n",
       "      <td>50.000000</td>\n",
       "      <td>9.715000</td>\n",
       "    </tr>\n",
       "  </tbody>\n",
       "</table>\n",
       "</div>"
      ],
      "text/plain": [
       "          PACKAGE        CGPA\n",
       "count  218.000000  216.000000\n",
       "mean     7.600505    8.956046\n",
       "std      6.573707    0.406298\n",
       "min      1.560000    6.528000\n",
       "25%      4.500000    8.714500\n",
       "50%      5.000000    8.963000\n",
       "75%      9.750000    9.253000\n",
       "max     50.000000    9.715000"
      ]
     },
     "execution_count": 110,
     "metadata": {},
     "output_type": "execute_result"
    }
   ],
   "source": [
    "df[[\"PACKAGE\",\"CGPA\"]].describe()"
   ]
  },
  {
   "cell_type": "code",
   "execution_count": 111,
   "id": "ef91f289-e3fa-4e37-8dce-af660de268e0",
   "metadata": {},
   "outputs": [
    {
     "data": {
      "text/plain": [
       "array(['CSE B', 'CSE A', 'IT', 'ECE A', 'ECE B', 'EEE', 'ECE -A'],\n",
       "      dtype=object)"
      ]
     },
     "execution_count": 111,
     "metadata": {},
     "output_type": "execute_result"
    }
   ],
   "source": [
    "df[\"Stream\"].unique()"
   ]
  },
  {
   "cell_type": "code",
   "execution_count": 112,
   "id": "284da573-f5d7-4fc4-909b-b9a4e543ee30",
   "metadata": {},
   "outputs": [],
   "source": [
    "df[\"Stream\"]=df[\"Stream\"].replace({\"CSE A\":\"CSE\",\"CSE B\":\"CSE\",\"ECE -A\":\"ECE\",\"ECE B\":\"ECE\",'ECE A':'ECE'})"
   ]
  },
  {
   "cell_type": "code",
   "execution_count": 113,
   "id": "7f7023a6-c53a-43fd-8236-b2ea9f013430",
   "metadata": {},
   "outputs": [
    {
     "data": {
      "text/plain": [
       "array(['CSE', 'IT', 'ECE', 'EEE'], dtype=object)"
      ]
     },
     "execution_count": 113,
     "metadata": {},
     "output_type": "execute_result"
    }
   ],
   "source": [
    "df[\"Stream\"].unique()"
   ]
  },
  {
   "cell_type": "code",
   "execution_count": 114,
   "id": "7dad37f3-541f-4837-97ff-f933e449868e",
   "metadata": {},
   "outputs": [
    {
     "data": {
      "text/plain": [
       "Stream\n",
       "CSE    84\n",
       "ECE    76\n",
       "EEE     6\n",
       "IT     52\n",
       "Name: PACKAGE, dtype: int64"
      ]
     },
     "execution_count": 114,
     "metadata": {},
     "output_type": "execute_result"
    }
   ],
   "source": [
    "df.groupby([\"Stream\"])[\"PACKAGE\"].count()"
   ]
  },
  {
   "cell_type": "code",
   "execution_count": 115,
   "id": "ca36a184-8b2c-4b8c-a7cd-4060804f016e",
   "metadata": {},
   "outputs": [],
   "source": [
    "df2=pd.read_excel(\"Total Students 2019-23.xlsx\")"
   ]
  },
  {
   "cell_type": "code",
   "execution_count": 116,
   "id": "df4c3b05-368e-458b-b6eb-454c629ce0ce",
   "metadata": {},
   "outputs": [
    {
     "data": {
      "text/html": [
       "<div>\n",
       "<style scoped>\n",
       "    .dataframe tbody tr th:only-of-type {\n",
       "        vertical-align: middle;\n",
       "    }\n",
       "\n",
       "    .dataframe tbody tr th {\n",
       "        vertical-align: top;\n",
       "    }\n",
       "\n",
       "    .dataframe thead th {\n",
       "        text-align: right;\n",
       "    }\n",
       "</style>\n",
       "<table border=\"1\" class=\"dataframe\">\n",
       "  <thead>\n",
       "    <tr style=\"text-align: right;\">\n",
       "      <th></th>\n",
       "      <th>Unique</th>\n",
       "      <th>Name</th>\n",
       "      <th>Cgpa</th>\n",
       "    </tr>\n",
       "  </thead>\n",
       "  <tbody>\n",
       "    <tr>\n",
       "      <th>0</th>\n",
       "      <td>1920803119</td>\n",
       "      <td>OMANSH DHAWAN</td>\n",
       "      <td>9.796</td>\n",
       "    </tr>\n",
       "    <tr>\n",
       "      <th>1</th>\n",
       "      <td>2520803119</td>\n",
       "      <td>RAJAT GUPTA</td>\n",
       "      <td>9.696</td>\n",
       "    </tr>\n",
       "    <tr>\n",
       "      <th>2</th>\n",
       "      <td>4320803119</td>\n",
       "      <td>SANIDHAY GROVER</td>\n",
       "      <td>9.631</td>\n",
       "    </tr>\n",
       "    <tr>\n",
       "      <th>3</th>\n",
       "      <td>3320803119</td>\n",
       "      <td>MRITUNJAY SINGH</td>\n",
       "      <td>9.630</td>\n",
       "    </tr>\n",
       "    <tr>\n",
       "      <th>4</th>\n",
       "      <td>2120803119</td>\n",
       "      <td>GOURANG VYAS</td>\n",
       "      <td>9.598</td>\n",
       "    </tr>\n",
       "    <tr>\n",
       "      <th>...</th>\n",
       "      <td>...</td>\n",
       "      <td>...</td>\n",
       "      <td>...</td>\n",
       "    </tr>\n",
       "    <tr>\n",
       "      <th>377</th>\n",
       "      <td>2020804919</td>\n",
       "      <td>HARDIK NASA</td>\n",
       "      <td>7.648</td>\n",
       "    </tr>\n",
       "    <tr>\n",
       "      <th>378</th>\n",
       "      <td>1120804919</td>\n",
       "      <td>SAHIL KHAN</td>\n",
       "      <td>7.500</td>\n",
       "    </tr>\n",
       "    <tr>\n",
       "      <th>379</th>\n",
       "      <td>1320804919</td>\n",
       "      <td>MUKUL AGGARWAL</td>\n",
       "      <td>7.407</td>\n",
       "    </tr>\n",
       "    <tr>\n",
       "      <th>380</th>\n",
       "      <td>75120804919</td>\n",
       "      <td>JATTIN SALOTRA</td>\n",
       "      <td>7.271</td>\n",
       "    </tr>\n",
       "    <tr>\n",
       "      <th>381</th>\n",
       "      <td>720804919</td>\n",
       "      <td>SAHIL RAJ SINGH</td>\n",
       "      <td>7.201</td>\n",
       "    </tr>\n",
       "  </tbody>\n",
       "</table>\n",
       "<p>382 rows × 3 columns</p>\n",
       "</div>"
      ],
      "text/plain": [
       "          Unique             Name   Cgpa\n",
       "0     1920803119    OMANSH DHAWAN  9.796\n",
       "1     2520803119      RAJAT GUPTA  9.696\n",
       "2     4320803119  SANIDHAY GROVER  9.631\n",
       "3     3320803119  MRITUNJAY SINGH  9.630\n",
       "4     2120803119     GOURANG VYAS  9.598\n",
       "..           ...              ...    ...\n",
       "377   2020804919      HARDIK NASA  7.648\n",
       "378   1120804919       SAHIL KHAN  7.500\n",
       "379   1320804919   MUKUL AGGARWAL  7.407\n",
       "380  75120804919   JATTIN SALOTRA  7.271\n",
       "381    720804919  SAHIL RAJ SINGH  7.201\n",
       "\n",
       "[382 rows x 3 columns]"
      ]
     },
     "execution_count": 116,
     "metadata": {},
     "output_type": "execute_result"
    }
   ],
   "source": [
    "df2"
   ]
  },
  {
   "cell_type": "code",
   "execution_count": 117,
   "id": "d00254e9-4aa1-4096-aacd-7f47f13c9a0c",
   "metadata": {},
   "outputs": [
    {
     "name": "stdout",
     "output_type": "stream",
     "text": [
      "[61.76470588235294, 72.22222222222221, 53.52112676056338, 18.75]\n"
     ]
    }
   ],
   "source": [
    "dep=[\"CSE\",\"IT\",\"ECE\",\"EEE\"]\n",
    "placed_count=[84,52,76,6]\n",
    "total_st=[136,72,142,32]\n",
    "placed_perct=[(x / y)*100 for x, y in zip(placed_count, total_st)]\n",
    "print(placed_perct)"
   ]
  },
  {
   "cell_type": "code",
   "execution_count": 118,
   "id": "2e686da0-ab93-40f2-93d6-5ff263744989",
   "metadata": {},
   "outputs": [
    {
     "data": {
      "text/plain": [
       "<BarContainer object of 4 artists>"
      ]
     },
     "execution_count": 118,
     "metadata": {},
     "output_type": "execute_result"
    },
    {
     "data": {
      "image/png": "[encoded data removed]",
      "text/plain": [
       "<Figure size 640x480 with 1 Axes>"
      ]
     },
     "metadata": {},
     "output_type": "display_data"
    }
   ],
   "source": [
    "plt.bar(dep,placed_perct)"
   ]
  },
  {
   "cell_type": "code",
   "execution_count": 119,
   "id": "0e4dc7ad-1497-4e7e-b0be-49dc64555748",
   "metadata": {},
   "outputs": [
    {
     "name": "stdout",
     "output_type": "stream",
     "text": [
      "Placement Dataset\n"
     ]
    }
   ],
   "source": [
    "print(\"Placement Dataset\")"
   ]
  },
  {
   "cell_type": "code",
   "execution_count": 120,
   "id": "84571166-e9bc-45d1-b193-01eb1271b7fc",
   "metadata": {},
   "outputs": [],
   "source": [
    "df2=pd.read_excel(\"Total Students 2019-23.xlsx\")"
   ]
  },
  {
   "cell_type": "code",
   "execution_count": 121,
   "id": "29fa45d0-749b-41a3-98a9-f5b8c8f37a39",
   "metadata": {},
   "outputs": [
    {
     "name": "stdout",
     "output_type": "stream",
     "text": [
      "<class 'pandas.core.frame.DataFrame'>\n",
      "RangeIndex: 382 entries, 0 to 381\n",
      "Data columns (total 3 columns):\n",
      " #   Column  Non-Null Count  Dtype  \n",
      "---  ------  --------------  -----  \n",
      " 0   Unique  382 non-null    int64  \n",
      " 1   Name    382 non-null    object \n",
      " 2   Cgpa    382 non-null    float64\n",
      "dtypes: float64(1), int64(1), object(1)\n",
      "memory usage: 9.1+ KB\n"
     ]
    }
   ],
   "source": [
    "df2.info()"
   ]
  },
  {
   "cell_type": "code",
   "execution_count": 122,
   "id": "b6256f27-263c-40b2-8fbf-95ca31f8299f",
   "metadata": {},
   "outputs": [
    {
     "data": {
      "text/plain": [
       "<Axes: ylabel='PACKAGE'>"
      ]
     },
     "execution_count": 122,
     "metadata": {},
     "output_type": "execute_result"
    },
    {
     "data": {
      "image/png": "[encoded data removed]",
      "text/plain": [
       "<Figure size 1000x1000 with 1 Axes>"
      ]
     },
     "metadata": {},
     "output_type": "display_data"
    }
   ],
   "source": [
    "box_color = \"#ff914d\"\n",
    "plt.figure(figsize=(10,10))\n",
    "sn.boxplot(df[\"PACKAGE\"],color=box_color)"
   ]
  },
  {
   "cell_type": "code",
   "execution_count": null,
   "id": "215bb52d-78b8-4afc-9f9b-64628b886145",
   "metadata": {},
   "outputs": [],
   "source": []
  },
  {
   "cell_type": "code",
   "execution_count": null,
   "id": "4485d55a-cedb-41eb-a4cb-dc25973f2db6",
   "metadata": {},
   "outputs": [],
   "source": []
  },
  {
   "cell_type": "code",
   "execution_count": null,
   "id": "ef314ee0-8f93-47b2-8745-36c4a471fb83",
   "metadata": {},
   "outputs": [],
   "source": []
  }
 ],
 "metadata": {
  "kernelspec": {
   "display_name": "Python 3 (ipykernel)",
   "language": "python",
   "name": "python3"
  },
  "language_info": {
   "codemirror_mode": {
    "name": "ipython",
    "version": 3
   },
   "file_extension": ".py",
   "mimetype": "text/x-python",
   "name": "python",
   "nbconvert_exporter": "python",
   "pygments_lexer": "ipython3",
   "version": "3.12.1"
  }
 },
 "nbformat": 4,
 "nbformat_minor": 5
}
